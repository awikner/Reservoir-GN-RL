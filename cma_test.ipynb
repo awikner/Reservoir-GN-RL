{
 "cells": [
  {
   "cell_type": "code",
   "execution_count": null,
   "metadata": {},
   "outputs": [
    {
     "name": "stdout",
     "output_type": "stream",
     "text": [
      "(128_w,256)-aCMA-ES (mu_w=66.9,w_1=3%) in dimension 160 (seed=748959, Tue Jan 26 21:02:30 2021)\n",
      "1\n"
     ]
    }
   ],
   "source": [
    "import numpy as np\n",
    "import time\n",
    "import cma\n",
    "\n",
    "multip = 20\n",
    "size = 8 * 20\n",
    "w = np.array([1,2,3,4,5,4,3,2]*multip)\n",
    "\n",
    "def get_fitness(x):\n",
    "    for i in range(1000):\n",
    "        y = randn(345)\n",
    "    return np.sum((x-w)**2)\n",
    "\n",
    "opts = {'popsize' : 256,\n",
    "        'ftarget': 1e-6,\n",
    "        'verbose': 1,\n",
    "        'maxiter': 5\n",
    "        }\n",
    "\n",
    "n_proc = 0\n",
    "for n_proc in range(1, 8):\n",
    "    es = cma.CMAEvolutionStrategy([0] * size , 1, opts)\n",
    "    time1 = time.time()\n",
    "    with cma.fitness_transformations.EvalParallel2(get_fitness, n_proc) as eval_para:\n",
    "        while not es.stop():\n",
    "            X = es.ask()\n",
    "            es.tell(X, eval_para(X))\n",
    "    time2 = time.time()\n",
    "    print(n_proc, time2 - time1)"
   ]
  },
  {
   "cell_type": "code",
   "execution_count": null,
   "metadata": {},
   "outputs": [],
   "source": []
  }
 ],
 "metadata": {
  "kernelspec": {
   "display_name": "Python 3",
   "language": "python",
   "name": "python3"
  },
  "language_info": {
   "codemirror_mode": {
    "name": "ipython",
    "version": 3
   },
   "file_extension": ".py",
   "mimetype": "text/x-python",
   "name": "python",
   "nbconvert_exporter": "python",
   "pygments_lexer": "ipython3",
   "version": "3.7.9"
  }
 },
 "nbformat": 4,
 "nbformat_minor": 4
}
