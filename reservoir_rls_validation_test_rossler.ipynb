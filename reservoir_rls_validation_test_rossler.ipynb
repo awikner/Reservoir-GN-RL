{
 "cells": [
  {
   "cell_type": "code",
   "execution_count": 1,
   "metadata": {},
   "outputs": [],
   "source": [
    "from reservoir_rls import *\n",
    "from lorenz63 import *\n",
    "from sklearn import preprocessing\n",
    "from scipy.stats import sem\n",
    "import cma\n",
    "from scipy.stats import kstest, norm, shapiro\n",
    "from multiprocessing import Pool\n",
    "from min_func import *\n",
    "from tqdm import tqdm\n",
    "\n",
    "\n",
    "from jupyterthemes import jtplot\n",
    "jtplot.style(theme='monokai', context='notebook', ticks=True, grid=False)"
   ]
  },
  {
   "cell_type": "code",
   "execution_count": 2,
   "metadata": {},
   "outputs": [],
   "source": [
    "data_length = 500000\n",
    "step = 0.05\n",
    "scale = 0.01\n",
    "slow_var = 48/28\n",
    "r_t = lambda x: r_t_const(x)\n",
    "dx_dt = lambda x, time, r_t: dxdt_lorenz_rossler(x, time, r_t, scale = scale, slow_var = slow_var)\n",
    "lorenz_data_rossler = getCoupledLorenzData(data_length, r_t, dx_dt, sample_tau = step)\n",
    "\n",
    "# scaler = preprocessing.StandardScaler().fit(data)\n",
    "# scaled_data = scaler.transform(data)\n",
    "scaled_data = lorenz_data_rossler[:,:3]\n",
    "scaled_data = np.ascontiguousarray(scaled_data)"
   ]
  },
  {
   "cell_type": "code",
   "execution_count": 8,
   "metadata": {},
   "outputs": [],
   "source": [
    "num_nodes = 210\n",
    "res_seed = 1\n",
    "num_tests = 200\n",
    "train_length = 800\n",
    "pred_length = 400\n",
    "sync_length = 200\n",
    "\n",
    "base_res = reservoir(3,num_nodes,input_weight = 1, spectral_radius = 1, seed = res_seed)\n",
    "mask = ['input_weight','regularization']\n",
    "x0 = np.array([6, 6])\n",
    "min_func = lambda x: vt_min_function_norm(scaled_data, x, mask, base_res.Win, base_res.A, \\\n",
    "     num_tests = num_tests,  num_nodes = num_nodes, pred_length = pred_length, train_length = train_length)\n",
    "sigma = 2"
   ]
  },
  {
   "cell_type": "code",
   "execution_count": 9,
   "metadata": {},
   "outputs": [
    {
     "name": "stdout",
     "output_type": "stream",
     "text": [
      "(10_w,20)-aCMA-ES (mu_w=5.9,w_1=27%) in dimension 2 (seed=5, Tue Dec 15 21:59:57 2020)\n",
      "Iterat #Fevals   function value  axis ratio  sigma  min&max std  t[m:s]\n",
      "    1     20 -8.500000000000000e+00 1.0e+00 1.89e+00  1e+00  2e+00 2:15.2\n",
      "    2     40 -1.000000000000000e+01 1.1e+00 1.75e+00  9e-01  1e+00 4:40.3\n",
      "    3     60 -1.100000000000000e+01 1.5e+00 1.37e+00  5e-01  9e-01 7:13.1\n",
      "    4     80 -1.100000000000000e+01 2.1e+00 1.21e+00  3e-01  7e-01 9:30.5\n",
      "    5    100 -1.100000000000000e+01 2.5e+00 1.02e+00  2e-01  5e-01 11:44.8\n",
      "    6    120 -1.000000000000000e+01 2.7e+00 9.69e-01  2e-01  4e-01 13:57.0\n",
      "    7    140 -1.100000000000000e+01 2.6e+00 9.11e-01  1e-01  3e-01 16:09.9\n",
      "    8    160 -1.100000000000000e+01 2.4e+00 8.81e-01  1e-01  3e-01 18:22.6\n",
      "    9    180 -1.000000000000000e+01 2.9e+00 7.55e-01  1e-01  2e-01 20:35.0\n",
      "   10    200 -1.000000000000000e+01 2.3e+00 6.40e-01  7e-02  2e-01 22:48.5\n",
      "   11    220 -1.100000000000000e+01 2.3e+00 5.94e-01  5e-02  1e-01 25:07.0\n",
      "   12    240 -1.050000000000000e+01 2.9e+00 5.67e-01  4e-02  1e-01 27:33.4\n",
      "   13    260 -1.000000000000000e+01 3.2e+00 5.06e-01  3e-02  9e-02 30:00.7\n",
      "   14    280 -1.100000000000000e+01 3.5e+00 3.98e-01  2e-02  6e-02 32:21.5\n",
      "   15    300 -1.100000000000000e+01 3.4e+00 3.99e-01  2e-02  5e-02 34:35.7\n",
      "   16    320 -1.100000000000000e+01 2.5e+00 3.66e-01  2e-02  4e-02 36:48.9\n",
      "   17    340 -1.100000000000000e+01 2.2e+00 3.39e-01  1e-02  3e-02 39:02.7\n",
      "   18    360 -1.100000000000000e+01 2.1e+00 3.79e-01  2e-02  2e-02 41:16.8\n",
      "   19    380 -1.100000000000000e+01 1.6e+00 3.37e-01  1e-02  2e-02 43:30.3\n",
      "   20    400 -1.100000000000000e+01 2.1e+00 2.59e-01  5e-03  1e-02 45:43.1\n",
      "   21    420 -1.100000000000000e+01 2.6e+00 2.21e-01  3e-03  1e-02 47:56.6\n",
      "   22    440 -1.100000000000000e+01 3.0e+00 1.85e-01  2e-03  7e-03 50:10.1\n",
      "   23    460 -1.100000000000000e+01 2.8e+00 1.99e-01  3e-03  6e-03 52:25.6\n",
      "   24    480 -1.100000000000000e+01 1.8e+00 1.57e-01  3e-03  4e-03 54:38.5\n",
      "   25    500 -1.100000000000000e+01 1.3e+00 1.33e-01  2e-03  2e-03 56:52.1\n",
      "   26    520 -1.100000000000000e+01 1.3e+00 1.12e-01  2e-03  2e-03 59:05.3\n",
      "termination on tolfunhist=1e-12 (Tue Dec 15 22:59:09 2020)\n",
      "final/bestever f-value = -1.100000e+01 -1.100000e+01\n",
      "incumbent solution: [4.803902177638982, 5.863609882669816]\n",
      "std deviation: [0.0017054470966685826, 0.0020213492821219608]\n"
     ]
    }
   ],
   "source": [
    "opts = cma.CMAOptions()\n",
    "opts.set('popsize',10*x0.size)\n",
    "opts.set('bounds', [0,10])\n",
    "opts.set('seed', 5)\n",
    "opts.set('verb_filenameprefix','cmaes_norm_rossler_moresamples_res%d\\\\' % (res_seed))\n",
    "results = cma.fmin(min_func, x0, sigma, options = opts)"
   ]
  },
  {
   "cell_type": "code",
   "execution_count": null,
   "metadata": {},
   "outputs": [],
   "source": [
    "input_weight = 5.066848935533839\n",
    "regs = np.linspace(2,8,25)\n",
    "forgets = np.linspace(0,5,25)\n",
    "func_vals = np.zeros((regs.size, forgets.size))\n",
    "\n",
    "with tqdm(total = regs.size * forgets.size) as pbar:\n",
    "    for i in range(regs.size):\n",
    "        for j in range(forgets.size):\n",
    "            func_vals[i,j] = min_func(np.array([input_weight, regs[i], forgets[j]]))\n",
    "            np.savetxt('rls_func_vals_weight%f.csv'%input_weight, func_vals, delimiter = ',')\n",
    "            pbar.update(1)"
   ]
  },
  {
   "cell_type": "code",
   "execution_count": null,
   "metadata": {},
   "outputs": [],
   "source": [
    "plt.pcolor(regs, forgets, -func_vals.T)\n",
    "plt.colorbar()\n",
    "plt.show()"
   ]
  },
  {
   "cell_type": "code",
   "execution_count": null,
   "metadata": {},
   "outputs": [],
   "source": [
    "from matplotlib.patches import Ellipse\n",
    "import matplotlib.transforms as transforms\n",
    "def confidence_ellipse(mean_x, mean_y, cov, ax, n_std=1.0, facecolor='none', **kwargs):\n",
    "    \"\"\"\n",
    "    Create a plot of the covariance confidence ellipse of *x* and *y*.\n",
    "\n",
    "    Parameters\n",
    "    ----------\n",
    "    x, y : array-like, shape (n, )\n",
    "        Input data.\n",
    "\n",
    "    ax : matplotlib.axes.Axes\n",
    "        The axes object to draw the ellipse into.\n",
    "\n",
    "    n_std : float\n",
    "        The number of standard deviations to determine the ellipse's radiuses.\n",
    "\n",
    "    **kwargs\n",
    "        Forwarded to `~matplotlib.patches.Ellipse`\n",
    "\n",
    "    Returns\n",
    "    -------\n",
    "    matplotlib.patches.Ellipse\n",
    "    \"\"\"\n",
    "    \n",
    "    pearson = cov[0, 1]/np.sqrt(cov[0, 0] * cov[1, 1])\n",
    "    # Using a special case to obtain the eigenvalues of this\n",
    "    # two-dimensionl dataset.\n",
    "    ell_radius_x = np.sqrt(1 + pearson)\n",
    "    ell_radius_y = np.sqrt(1 - pearson)\n",
    "    ellipse = Ellipse((0, 0), width=ell_radius_x * 2, height=ell_radius_y * 2,\n",
    "                      facecolor=facecolor, **kwargs)\n",
    "\n",
    "    # Calculating the stdandard deviation of x from\n",
    "    # the squareroot of the variance and multiplying\n",
    "    # with the given number of standard deviations.\n",
    "    scale_x = np.sqrt(cov[0, 0]) * n_std\n",
    "    # mean_x = np.mean(x)\n",
    "\n",
    "    # calculating the stdandard deviation of y ...\n",
    "    scale_y = np.sqrt(cov[1, 1]) * n_std\n",
    "    # mean_y = np.mean(y)\n",
    "\n",
    "    transf = transforms.Affine2D() \\\n",
    "        .rotate_deg(45) \\\n",
    "        .scale(scale_x, scale_y) \\\n",
    "        .translate(mean_x, mean_y)\n",
    "\n",
    "    ellipse.set_transform(transf + ax.transData)\n",
    "    print(ellipse)\n",
    "    return ax.add_patch(ellipse)"
   ]
  },
  {
   "cell_type": "code",
   "execution_count": null,
   "metadata": {},
   "outputs": [],
   "source": [
    "from matplotlib.animation import FuncAnimation\n",
    "import pandas as pd\n",
    "step = 0.05\n",
    "test_weight = 5.066848935533839\n",
    "\n",
    "covmats = np.loadtxt('cmaes_rls_const_weight_starttime125_res1/covmats.txt', delimiter = ',')\n",
    "mean_data = np.loadtxt('cmaes_rls_const_weight_starttime125_res1/phenomean.txt', delimiter = ',')[2:]\n",
    "num_frames = 92\n",
    "func_vals = np.loadtxt('rls_func_vals_weight%f.csv'%test_weight, delimiter = ',')*step\n",
    "mean_func = pd.read_csv('cmaes_rls_const_weight_starttime125_res1/fit.dat', sep = ' ', header = None, skiprows = [0]).to_numpy()[:,5]*step\n",
    "plt.plot(np.max(np.abs(covmats), axis = 1))\n",
    "plt.xlim(0,num_frames)\n",
    "plt.show()\n",
    "\n",
    "weights = np.linspace(2,8,25)\n",
    "regs = np.linspace(0,5,25)\n",
    "W, R = np.meshgrid(weights, regs)\n",
    "\n",
    "fig = plt.figure()\n",
    "ax = fig.add_subplot(1,1,1)\n",
    "\n",
    "def init_base(ax,W,R,func_vals):\n",
    "    ax.clear()\n",
    "    plt.pcolor(W, R, -func_vals.T)\n",
    "    plt.colorbar()\n",
    "    ax.set_xlim(2,8)\n",
    "    ax.set_ylim(0,5)\n",
    "    xticks = np.linspace(2,8,7)\n",
    "    yticks = np.linspace(0,5,6)\n",
    "    xlabels = ['%.0f'%i for i in -xticks-3.0]\n",
    "    ylabels = ['%.1f'%i for i in -0.5*yticks - 1.0]\n",
    "    plt.xticks(xticks, xlabels)\n",
    "    plt.yticks(yticks, ylabels)\n",
    "    plt.xlabel('log$_{10}$(Regularization)')\n",
    "    plt.ylabel('log$_{10}$(1 - Forgetting)')\n",
    "\n",
    "def animate(i,ax,mean_data,covmats,W, R, func_vals, test_weight):\n",
    "    ax.clear()\n",
    "    plt.pcolor(W, R, -func_vals.T)\n",
    "    confidence_ellipse(mean_data[i,0],mean_data[i,1],covmats[i,:].reshape(2,2),ax,edgecolor = 'red', linewidth = 2)\n",
    "    ax.scatter(mean_data[i,0],mean_data[i,1],c = 'red')\n",
    "    ax.set_xlim(2,8)\n",
    "    ax.set_ylim(0,5)\n",
    "    xticks = np.linspace(2,8,7)\n",
    "    yticks = np.linspace(0,5,6)\n",
    "    xlabels = ['%.0f'%i for i in -xticks-3.0]\n",
    "    ylabels = ['%.1f'%i for i in -0.5*yticks - 1.0]\n",
    "    plt.xticks(xticks, xlabels)\n",
    "    plt.yticks(yticks, ylabels)\n",
    "    plt.xlabel('log$_{10}$(Regularization)')\n",
    "    plt.ylabel('log$_{10}$(1 - Forgetting)')\n",
    "    plt.title('Color Input Weight: %.3f, Mean Input Weight: %.3f' % ((test_weight-5)*0.2, (test_weight-5)*0.2))\n",
    "    \n",
    "update = lambda i: animate(i,ax,mean_data,covmats,W,R,func_vals,test_weight)\n",
    "init = lambda : init_base(ax,W,R,func_vals)\n",
    "\n",
    "ani = FuncAnimation(fig, update, frames = num_frames, init_func = init, blit = False)\n",
    "\n",
    "ani.save('test_rls_cweight.gif')\n",
    "fig.show()\n",
    "\n",
    "fig2 = plt.figure()\n",
    "\n",
    "ax2 = fig2.add_subplot(1,1,1)\n",
    "line, = ax2.plot([],[],lw = 2, color = 'red')\n",
    "\n",
    "def init2(ax2, line, num_frames):\n",
    "    ax2.set_xlim(0,num_frames)\n",
    "    ax2.set_ylim(0,2.25)\n",
    "    ax2.set_xlabel('CMA-ES Generation')\n",
    "    ax2.set_ylabel('Median Valid Time')\n",
    "    ax2.grid()\n",
    "    line.set_data([],[])\n",
    "    return line,\n",
    "\n",
    "def animate2(i, line, mean_func):\n",
    "    line.set_data(np.arange(i+1),np.append(np.array([0]),-mean_func[:i]))\n",
    "    return line,\n",
    "    \n",
    "\n",
    "init_fun = lambda : init2(ax2, line, num_frames)    \n",
    "update2 = lambda i: animate2(i,line, mean_func)\n",
    "\n",
    "ani2 = FuncAnimation(fig2, update2, frames = num_frames, init_func = init_fun, blit = True)\n",
    "\n",
    "ani2.save('test2_rls_cweight.gif')\n",
    "\n"
   ]
  },
  {
   "cell_type": "code",
   "execution_count": null,
   "metadata": {},
   "outputs": [],
   "source": [
    "res2 = reservoir(3,210,forget = 1, input_weight = 0.25*0.05735187596920699, regularization = 10**(-9.310114193664688), seed = 3)\n",
    "num_tests = 5000\n",
    "pred_length = 500\n",
    "train_length = 400\n",
    "sync_length = 200\n",
    "valid_times_norm = cross_validation_performance_resync(scaled_data,res2,num_tests,sync_length, \\\n",
    "   train_length, pred_length,train_method = 'Normal', progress = True)\n",
    "print(np.median(valid_times_norm))"
   ]
  },
  {
   "cell_type": "code",
   "execution_count": null,
   "metadata": {},
   "outputs": [],
   "source": [
    "res1 = reservoir(3,200,forget = 0.995, input_weight = 0.01, LM_regularization = 1e-10, delta = 1e6)\n",
    "res2 = reservoir(3,200,forget = 1, input_weight = 0.01, regularization = 1e-7)"
   ]
  },
  {
   "cell_type": "code",
   "execution_count": null,
   "metadata": {},
   "outputs": [],
   "source": [
    "data_length = 100000\n",
    "step = 0.05\n",
    "r_t = lambda x: r_t_const(x)\n",
    "dxdt = lambda x,t,r_t: dxdt_lorenz(x,t,r_t)\n",
    "data = getLorenzData(data_length, r_t, dxdt, sample_tau = step)\n",
    "\n",
    "sync_length = 200\n",
    "num_tests = 500\n",
    "train_length = 800\n",
    "pred_length = 500\n",
    "\n",
    "# scaler = preprocessing.StandardScaler().fit(data)\n",
    "# scaled_data = scaler.transform(data)\n",
    "scaled_data = np.copy(data)\n",
    "scaled_data = np.ascontiguousarray(scaled_data)"
   ]
  },
  {
   "cell_type": "code",
   "execution_count": null,
   "metadata": {},
   "outputs": [],
   "source": [
    "valid_times_RLS = cross_validation_performance(scaled_data,res1,num_tests,sync_length, \\\n",
    "   train_length, pred_length,train_method = 'RLS')\n",
    "print(np.median(valid_times_RLS))\n",
    "valid_times_norm = cross_validation_performance(scaled_data,res2,num_tests,sync_length, \\\n",
    "   train_length, pred_length,train_method = 'Normal')\n",
    "print(np.median(valid_times_norm))"
   ]
  },
  {
   "cell_type": "code",
   "execution_count": null,
   "metadata": {},
   "outputs": [],
   "source": [
    "res1 = reservoir(3,300,forget = 0.985, input_weight = 0.01, regularization = 1e-8, \\\n",
    "     t_regularization = 5e-5, delta = 1e6, t_weighted = True)"
   ]
  },
  {
   "cell_type": "code",
   "execution_count": null,
   "metadata": {},
   "outputs": [],
   "source": [
    "# valid_times_norm_array = np.loadtxt('Lorenz63Data/valid_times_norm_tweight_forget%f_reg%e_treg%e.csv' \\\n",
    "#     %(res1.forget, res1.regularization, res1.t_regularization), delimiter = ',')"
   ]
  },
  {
   "cell_type": "code",
   "execution_count": null,
   "metadata": {},
   "outputs": [],
   "source": [
    "step = 0.05\n",
    "base_data_length = 25000\n",
    "data_length = int(base_data_length * step/(0.01))\n",
    "r_t = lambda x: r_t_cosine(x)\n",
    "dxdt = lambda x,t,r_t: dxdt_lorenz(x,t,r_t)\n",
    "valid_times_norm_array = np.array([])\n",
    "\n",
    "sync_length = 1000\n",
    "num_tests = 300\n",
    "train_length = 800\n",
    "pred_length = 200\n",
    "completed_seeds = valid_times_norm_array.shape[0]\n",
    "\n",
    "# scaler = preprocessing.StandardScaler().fit(data)\n",
    "# scaled_data = scaler.transform(data)\n",
    "from tqdm import tqdm\n",
    "with tqdm(total = num_tests) as pbar:\n",
    "    for seed in range(num_tests):\n",
    "        data = getLorenzData(data_length, r_t, dxdt, sample_tau = step, seed = seed)\n",
    "        scaled_data = np.ascontiguousarray(data)\n",
    "        valid_times_norm = cross_validation_performance_versust(scaled_data,res1,sync_length, \\\n",
    "               train_length, pred_length,pred_gap_length = 100, train_method = 'Normal', progress = False)\n",
    "        if valid_times_norm_array.size == 0:\n",
    "            valid_times_norm_array = np.copy(valid_times_norm)\n",
    "        else:\n",
    "            valid_times_norm_array = np.vstack((valid_times_norm_array,valid_times_norm))\n",
    "        np.savetxt('Lorenz63Data/valid_times_norm_tweight_forget%f_reg%e_treg%e.csv' %(res1.forget, res1.regularization, res1.t_regularization), \\\n",
    "            valid_times_norm_array, delimiter = ',')\n",
    "        pbar.update(1)"
   ]
  },
  {
   "cell_type": "code",
   "execution_count": null,
   "metadata": {},
   "outputs": [],
   "source": [
    "np.savetxt('Lorenz63Data/valid_times_norm_tweight_forget%f_reg%e_treg%e.csv' %(res1.forget, res1.regularization, res1.t_regularization), \\\n",
    "    valid_times_norm_array, delimiter = ',')"
   ]
  },
  {
   "cell_type": "code",
   "execution_count": null,
   "metadata": {},
   "outputs": [],
   "source": [
    "plt.plot(np.mean(valid_times_norm_array*0.05,axis = 0))\n",
    "plt.ylim(0,5)\n",
    "plt.show()"
   ]
  },
  {
   "cell_type": "code",
   "execution_count": null,
   "metadata": {},
   "outputs": [],
   "source": [
    "res1 = reservoir(3,300,forget = 0.985, input_weight = 0.01, LM_regularization = 1e-10, \\\n",
    "     t_regularization = 0, delta = 1e6, t_weighted = False, RLS_reg_type = 'LM')\n",
    "step = 0.05\n",
    "base_data_length = 5000\n",
    "data_length = int(base_data_length * step/(0.01))\n",
    "r_t = lambda x: r_t_cosine(x)\n",
    "dxdt = lambda x,t,r_t: dxdt_lorenz(x,t,r_t)\n",
    "valid_times_norm_array = np.array([])\n",
    "\n",
    "sync_length = 500\n",
    "num_tests = 100\n",
    "train_length = 2000\n",
    "pred_length = 400"
   ]
  },
  {
   "cell_type": "code",
   "execution_count": null,
   "metadata": {},
   "outputs": [],
   "source": [
    "data = getLorenzData(data_length, r_t, dxdt, sample_tau = step, seed = 1)\n",
    "new_data = np.ascontiguousarray(data)"
   ]
  },
  {
   "cell_type": "code",
   "execution_count": null,
   "metadata": {},
   "outputs": [],
   "source": [
    "res1.trainWoutRLS(scaled_data[2800:3800],200)\n",
    "res1.valid_time(scaled_data[3800:4200],plot = True, error_bound = 3.2)"
   ]
  },
  {
   "cell_type": "code",
   "execution_count": null,
   "metadata": {},
   "outputs": [],
   "source": [
    "valid_times_norm = cross_validation_performance_separated(scaled_data,res1,sync_length, \\\n",
    "               train_length, pred_length, train_method = 'RLS', progress = False)\n",
    "print(np.median(valid_times_norm))"
   ]
  },
  {
   "cell_type": "code",
   "execution_count": null,
   "metadata": {},
   "outputs": [],
   "source": [
    "# scaler = preprocessing.StandardScaler().fit(data)\n",
    "# scaled_data = scaler.transform(data)\n",
    "from tqdm import tqdm\n",
    "with tqdm(total = num_tests) as pbar:\n",
    "    for seed in range(num_tests):\n",
    "        data = getLorenzData(data_length, r_t, dxdt, sample_tau = step, seed = seed)\n",
    "        scaled_data = np.ascontiguousarray(data)\n",
    "        valid_times_norm = cross_validation_performance_versust(scaled_data,res1,sync_length, \\\n",
    "               train_length, pred_length,pred_gap_length = 100, train_method = 'RLS', progress = False)\n",
    "        if valid_times_norm_array.size == 0:\n",
    "            valid_times_norm_array = np.copy(valid_times_norm)\n",
    "        else:\n",
    "            valid_times_norm_array = np.vstack((valid_times_norm_array,valid_times_norm))\n",
    "        np.savetxt('Lorenz63Data/valid_times_rls_tweight_forget%f_reg%e_treg%e.csv' %(res1.forget, \\\n",
    "            res1.regularization, res1.t_regularization), valid_times_norm_array, delimiter = ',')\n",
    "        pbar.update(1)"
   ]
  },
  {
   "cell_type": "code",
   "execution_count": null,
   "metadata": {},
   "outputs": [],
   "source": [
    "plt.plot(np.mean(valid_times_norm_array*0.05,axis = 0))\n",
    "plt.ylim(0,5)\n",
    "plt.show()"
   ]
  },
  {
   "cell_type": "code",
   "execution_count": null,
   "metadata": {},
   "outputs": [],
   "source": [
    "x = np.array([[1,2],[3,4]])\n",
    "np.mean(x,axis = 1)"
   ]
  },
  {
   "cell_type": "code",
   "execution_count": null,
   "metadata": {},
   "outputs": [],
   "source": []
  }
 ],
 "metadata": {
  "kernelspec": {
   "display_name": "Python 3",
   "language": "python",
   "name": "python3"
  },
  "language_info": {
   "codemirror_mode": {
    "name": "ipython",
    "version": 3
   },
   "file_extension": ".py",
   "mimetype": "text/x-python",
   "name": "python",
   "nbconvert_exporter": "python",
   "pygments_lexer": "ipython3",
   "version": "3.7.9"
  }
 },
 "nbformat": 4,
 "nbformat_minor": 4
}
