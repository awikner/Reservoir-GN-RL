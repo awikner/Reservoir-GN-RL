{
 "cells": [
  {
   "cell_type": "code",
   "execution_count": 1,
   "metadata": {},
   "outputs": [],
   "source": [
    "from reservoir_rls import *\n",
    "from lorenz63 import *\n",
    "from sklearn import preprocessing\n",
    "from scipy.stats import sem\n",
    "import cma\n",
    "from scipy.stats import kstest, norm, shapiro\n",
    "from multiprocessing import Pool\n",
    "from min_func import *\n",
    "from tqdm import tqdm\n",
    "\n",
    "\n",
    "from jupyterthemes import jtplot\n",
    "jtplot.style(theme='monokai', context='notebook', ticks=True, grid=False)"
   ]
  },
  {
   "cell_type": "code",
   "execution_count": 2,
   "metadata": {},
   "outputs": [
    {
     "name": "stderr",
     "output_type": "stream",
     "text": [
      "100%|████████████████████████████████████████████████████████████████████████████████| 100/100 [01:01<00:00,  1.62it/s]"
     ]
    },
    {
     "name": "stdout",
     "output_type": "stream",
     "text": [
      "(140000, 3)\n"
     ]
    },
    {
     "name": "stderr",
     "output_type": "stream",
     "text": [
      "\n"
     ]
    }
   ],
   "source": [
    "step = 0.05\n",
    "start_time = 125\n",
    "sync_length = 200\n",
    "num_tests = 500\n",
    "train_length = 800\n",
    "pred_length = 400\n",
    "base_data_length = int(start_time/step)\n",
    "data_length = int(base_data_length * step/(0.01))+pred_length\n",
    "r_t = lambda x: r_t_cosine(x)\n",
    "dxdt = lambda x,t,r_t: dxdt_lorenz(x,t,r_t)\n",
    "\n",
    "num_tests = 100\n",
    "with tqdm(total = num_tests) as pbar:\n",
    "    for seed in range(num_tests):\n",
    "        data = getLorenzData(data_length, r_t, dxdt, sample_tau = step, seed = seed)\n",
    "        if seed == 0:\n",
    "            optim_data = data[-sync_length - train_length - pred_length:]\n",
    "        else:\n",
    "            optim_data = np.vstack((optim_data, data[-sync_length - train_length - pred_length:]))\n",
    "        pbar.update(1)\n",
    "print(optim_data.shape)\n",
    "\n",
    "# scaler = preprocessing.StandardScaler().fit(data)\n",
    "# scaled_data = scaler.transform(data)\n",
    "scaled_data = np.copy(optim_data)\n",
    "scaled_data = np.ascontiguousarray(scaled_data)"
   ]
  },
  {
   "cell_type": "code",
   "execution_count": 3,
   "metadata": {},
   "outputs": [],
   "source": [
    "num_nodes = 210\n",
    "res_seed = 1\n",
    "base_res = reservoir(3,num_nodes,input_weight = 1, spectral_radius = 1, seed = res_seed)\n",
    "mask = ['input_weight','regularization','forget']\n",
    "x0 = np.array([5, 6, 3])\n",
    "min_func = lambda x: vt_min_function_norm(scaled_data, x, mask, base_res.Win, base_res.A, \\\n",
    "     num_tests = num_tests,  num_nodes = num_nodes, pred_length = pred_length, train_length = train_length,\n",
    "     separated = True)\n",
    "sigma = 2"
   ]
  },
  {
   "cell_type": "code",
   "execution_count": 4,
   "metadata": {},
   "outputs": [
    {
     "name": "stdout",
     "output_type": "stream",
     "text": [
      "(15_w,30)-aCMA-ES (mu_w=8.6,w_1=20%) in dimension 3 (seed=5, Tue Dec 15 16:33:42 2020)\n",
      "Iterat #Fevals   function value  axis ratio  sigma  min&max std  t[m:s]\n",
      "    1     30 -3.250000000000000e+01 1.0e+00 1.82e+00  1e+00  2e+00 1:34.4\n",
      "    2     60 -3.300000000000000e+01 1.5e+00 1.53e+00  7e-01  1e+00 3:06.4\n",
      "    3     90 -4.000000000000000e+01 2.4e+00 1.30e+00  4e-01  1e+00 4:25.2\n",
      "    4    120 -3.850000000000000e+01 4.0e+00 1.39e+00  3e-01  1e+00 5:40.0\n",
      "    5    150 -3.450000000000000e+01 4.8e+00 1.40e+00  2e-01  1e+00 6:55.4\n",
      "    6    180 -3.500000000000000e+01 5.7e+00 1.44e+00  2e-01  1e+00 8:09.1\n",
      "    7    210 -4.350000000000000e+01 6.8e+00 1.46e+00  2e-01  1e+00 9:22.1\n",
      "    8    240 -3.900000000000000e+01 8.2e+00 1.31e+00  1e-01  1e+00 10:35.2\n",
      "    9    270 -3.900000000000000e+01 1.0e+01 1.11e+00  1e-01  1e+00 11:48.6\n",
      "   10    300 -4.150000000000000e+01 9.5e+00 1.05e+00  1e-01  9e-01 13:00.3\n",
      "   11    330 -4.550000000000000e+01 7.9e+00 1.02e+00  1e-01  7e-01 14:13.1\n",
      "   12    360 -4.400000000000000e+01 7.5e+00 1.14e+00  1e-01  8e-01 15:25.9\n",
      "   13    390 -4.250000000000000e+01 8.9e+00 1.05e+00  1e-01  7e-01 16:39.0\n",
      "   14    420 -4.400000000000000e+01 8.9e+00 1.01e+00  1e-01  6e-01 17:52.5\n",
      "   15    450 -4.700000000000000e+01 7.3e+00 7.95e-01  8e-02  4e-01 19:04.0\n",
      "   16    480 -4.750000000000000e+01 6.1e+00 9.62e-01  1e-01  6e-01 20:15.5\n",
      "   17    510 -4.600000000000000e+01 9.6e+00 1.09e+00  1e-01  7e-01 21:27.4\n",
      "   18    540 -4.750000000000000e+01 1.1e+01 1.26e+00  1e-01  7e-01 22:41.6\n",
      "   19    570 -4.450000000000000e+01 1.1e+01 1.30e+00  1e-01  7e-01 23:54.8\n",
      "   20    600 -4.700000000000000e+01 1.0e+01 1.40e+00  1e-01  8e-01 25:08.6\n",
      "   21    630 -4.400000000000000e+01 1.3e+01 1.42e+00  1e-01  8e-01 26:21.5\n",
      "   22    660 -4.750000000000000e+01 1.2e+01 1.59e+00  1e-01  1e+00 27:33.5\n",
      "   23    690 -4.450000000000000e+01 1.5e+01 1.55e+00  1e-01  8e-01 28:46.8\n",
      "   24    720 -4.350000000000000e+01 1.2e+01 1.72e+00  1e-01  1e+00 30:01.2\n",
      "   25    750 -4.650000000000000e+01 1.6e+01 1.69e+00  1e-01  1e+00 31:14.5\n",
      "   26    780 -4.450000000000000e+01 1.6e+01 1.53e+00  8e-02  8e-01 32:28.5\n",
      "   27    810 -4.500000000000000e+01 1.8e+01 1.27e+00  6e-02  7e-01 33:41.0\n",
      "   28    840 -4.450000000000000e+01 1.9e+01 1.13e+00  7e-02  6e-01 34:53.9\n",
      "   29    870 -4.300000000000000e+01 1.7e+01 1.12e+00  7e-02  6e-01 36:06.2\n",
      "   30    900 -4.900000000000000e+01 1.6e+01 1.32e+00  1e-01  8e-01 37:18.8\n",
      "   31    930 -4.900000000000000e+01 2.1e+01 1.25e+00  8e-02  6e-01 38:32.7\n",
      "   32    960 -4.600000000000000e+01 2.1e+01 1.10e+00  6e-02  5e-01 39:45.7\n",
      "   33    990 -4.300000000000000e+01 1.9e+01 1.06e+00  5e-02  4e-01 40:58.0\n",
      "   34   1020 -4.750000000000000e+01 1.7e+01 1.03e+00  3e-02  3e-01 42:11.9\n",
      "   35   1050 -5.000000000000000e+01 1.5e+01 9.38e-01  2e-02  2e-01 43:25.5\n",
      "   36   1080 -5.000000000000000e+01 1.7e+01 8.52e-01  1e-02  2e-01 44:40.0\n",
      "   37   1110 -4.950000000000000e+01 2.4e+01 8.01e-01  7e-03  2e-01 45:54.7\n",
      "   38   1140 -4.850000000000000e+01 2.7e+01 6.74e-01  4e-03  1e-01 47:08.8\n",
      "   39   1170 -4.950000000000000e+01 3.7e+01 6.68e-01  3e-03  1e-01 48:23.3\n",
      "   40   1200 -5.000000000000000e+01 4.4e+01 6.48e-01  2e-03  1e-01 49:37.6\n",
      "   41   1230 -5.000000000000000e+01 5.4e+01 5.88e-01  2e-03  1e-01 50:51.5\n",
      "   42   1260 -5.000000000000000e+01 7.2e+01 6.91e-01  2e-03  1e-01 52:06.5\n",
      "   43   1290 -5.000000000000000e+01 1.2e+02 8.16e-01  1e-03  2e-01 53:20.5\n",
      "   44   1320 -5.000000000000000e+01 1.5e+02 8.04e-01  1e-03  2e-01 54:34.9\n",
      "   45   1350 -5.000000000000000e+01 1.8e+02 9.24e-01  1e-03  2e-01 55:50.9\n",
      "   46   1380 -5.000000000000000e+01 1.7e+02 8.47e-01  1e-03  2e-01 57:06.9\n",
      "   47   1410 -5.000000000000000e+01 2.0e+02 8.13e-01  1e-03  1e-01 58:22.9\n",
      "   48   1440 -5.000000000000000e+01 1.7e+02 7.59e-01  7e-04  1e-01 59:40.2\n",
      "   49   1470 -5.000000000000000e+01 2.1e+02 9.03e-01  7e-04  2e-01 61:13.2\n",
      "   50   1500 -5.000000000000000e+01 2.6e+02 8.61e-01  6e-04  1e-01 62:45.8\n",
      "   51   1530 -5.000000000000000e+01 2.3e+02 8.23e-01  5e-04  1e-01 64:18.5\n",
      "   52   1560 -5.000000000000000e+01 2.4e+02 7.01e-01  4e-04  1e-01 65:51.1\n",
      "termination on tolfunhist=1e-12 (Tue Dec 15 17:39:37 2020)\n",
      "termination on tolflatfitness=1 (Tue Dec 15 17:39:37 2020)\n",
      "final/bestever f-value = -5.000000e+01 -5.000000e+01\n",
      "incumbent solution: [4.925039836650285, 8.775714371720264, 1.022523387063828]\n",
      "std deviation: [0.0003689699992345086, 0.10381042625009106, 0.02664282934830443]\n"
     ]
    }
   ],
   "source": [
    "opts = cma.CMAOptions()\n",
    "opts.set('popsize',10*x0.size)\n",
    "opts.set('bounds', [0,10])\n",
    "opts.set('seed', 5)\n",
    "opts.set('verb_filenameprefix','cmaes_norm_cos_wforget_moresamples_starttime%d_res%d\\\\' % (start_time,res_seed))\n",
    "results = cma.fmin(min_func, x0, sigma, options = opts)"
   ]
  },
  {
   "cell_type": "code",
   "execution_count": null,
   "metadata": {},
   "outputs": [],
   "source": [
    "input_weight = 5.066848935533839\n",
    "regs = np.linspace(2,8,25)\n",
    "forgets = np.linspace(0,5,25)\n",
    "func_vals = np.zeros((regs.size, forgets.size))\n",
    "\n",
    "with tqdm(total = regs.size * forgets.size) as pbar:\n",
    "    for i in range(regs.size):\n",
    "        for j in range(forgets.size):\n",
    "            func_vals[i,j] = min_func(np.array([input_weight, regs[i], forgets[j]]))\n",
    "            np.savetxt('rls_func_vals_weight%f.csv'%input_weight, func_vals, delimiter = ',')\n",
    "            pbar.update(1)"
   ]
  },
  {
   "cell_type": "code",
   "execution_count": null,
   "metadata": {},
   "outputs": [],
   "source": [
    "plt.pcolor(regs, forgets, -func_vals.T)\n",
    "plt.colorbar()\n",
    "plt.show()"
   ]
  },
  {
   "cell_type": "code",
   "execution_count": null,
   "metadata": {},
   "outputs": [],
   "source": [
    "from matplotlib.patches import Ellipse\n",
    "import matplotlib.transforms as transforms\n",
    "def confidence_ellipse(mean_x, mean_y, cov, ax, n_std=1.0, facecolor='none', **kwargs):\n",
    "    \"\"\"\n",
    "    Create a plot of the covariance confidence ellipse of *x* and *y*.\n",
    "\n",
    "    Parameters\n",
    "    ----------\n",
    "    x, y : array-like, shape (n, )\n",
    "        Input data.\n",
    "\n",
    "    ax : matplotlib.axes.Axes\n",
    "        The axes object to draw the ellipse into.\n",
    "\n",
    "    n_std : float\n",
    "        The number of standard deviations to determine the ellipse's radiuses.\n",
    "\n",
    "    **kwargs\n",
    "        Forwarded to `~matplotlib.patches.Ellipse`\n",
    "\n",
    "    Returns\n",
    "    -------\n",
    "    matplotlib.patches.Ellipse\n",
    "    \"\"\"\n",
    "    \n",
    "    pearson = cov[0, 1]/np.sqrt(cov[0, 0] * cov[1, 1])\n",
    "    # Using a special case to obtain the eigenvalues of this\n",
    "    # two-dimensionl dataset.\n",
    "    ell_radius_x = np.sqrt(1 + pearson)\n",
    "    ell_radius_y = np.sqrt(1 - pearson)\n",
    "    ellipse = Ellipse((0, 0), width=ell_radius_x * 2, height=ell_radius_y * 2,\n",
    "                      facecolor=facecolor, **kwargs)\n",
    "\n",
    "    # Calculating the stdandard deviation of x from\n",
    "    # the squareroot of the variance and multiplying\n",
    "    # with the given number of standard deviations.\n",
    "    scale_x = np.sqrt(cov[0, 0]) * n_std\n",
    "    # mean_x = np.mean(x)\n",
    "\n",
    "    # calculating the stdandard deviation of y ...\n",
    "    scale_y = np.sqrt(cov[1, 1]) * n_std\n",
    "    # mean_y = np.mean(y)\n",
    "\n",
    "    transf = transforms.Affine2D() \\\n",
    "        .rotate_deg(45) \\\n",
    "        .scale(scale_x, scale_y) \\\n",
    "        .translate(mean_x, mean_y)\n",
    "\n",
    "    ellipse.set_transform(transf + ax.transData)\n",
    "    print(ellipse)\n",
    "    return ax.add_patch(ellipse)"
   ]
  },
  {
   "cell_type": "code",
   "execution_count": null,
   "metadata": {},
   "outputs": [],
   "source": [
    "from matplotlib.animation import FuncAnimation\n",
    "import pandas as pd\n",
    "step = 0.05\n",
    "test_weight = 5.066848935533839\n",
    "\n",
    "covmats = np.loadtxt('cmaes_rls_const_weight_starttime125_res1/covmats.txt', delimiter = ',')\n",
    "mean_data = np.loadtxt('cmaes_rls_const_weight_starttime125_res1/phenomean.txt', delimiter = ',')[2:]\n",
    "num_frames = 92\n",
    "func_vals = np.loadtxt('rls_func_vals_weight%f.csv'%test_weight, delimiter = ',')*step\n",
    "mean_func = pd.read_csv('cmaes_rls_const_weight_starttime125_res1/fit.dat', sep = ' ', header = None, skiprows = [0]).to_numpy()[:,5]*step\n",
    "plt.plot(np.max(np.abs(covmats), axis = 1))\n",
    "plt.xlim(0,num_frames)\n",
    "plt.show()\n",
    "\n",
    "weights = np.linspace(2,8,25)\n",
    "regs = np.linspace(0,5,25)\n",
    "W, R = np.meshgrid(weights, regs)\n",
    "\n",
    "fig = plt.figure()\n",
    "ax = fig.add_subplot(1,1,1)\n",
    "\n",
    "def init_base(ax,W,R,func_vals):\n",
    "    ax.clear()\n",
    "    plt.pcolor(W, R, -func_vals.T)\n",
    "    plt.colorbar()\n",
    "    ax.set_xlim(2,8)\n",
    "    ax.set_ylim(0,5)\n",
    "    xticks = np.linspace(2,8,7)\n",
    "    yticks = np.linspace(0,5,6)\n",
    "    xlabels = ['%.0f'%i for i in -xticks-3.0]\n",
    "    ylabels = ['%.1f'%i for i in -0.5*yticks - 1.0]\n",
    "    plt.xticks(xticks, xlabels)\n",
    "    plt.yticks(yticks, ylabels)\n",
    "    plt.xlabel('log$_{10}$(Regularization)')\n",
    "    plt.ylabel('log$_{10}$(1 - Forgetting)')\n",
    "\n",
    "def animate(i,ax,mean_data,covmats,W, R, func_vals, test_weight):\n",
    "    ax.clear()\n",
    "    plt.pcolor(W, R, -func_vals.T)\n",
    "    confidence_ellipse(mean_data[i,0],mean_data[i,1],covmats[i,:].reshape(2,2),ax,edgecolor = 'red', linewidth = 2)\n",
    "    ax.scatter(mean_data[i,0],mean_data[i,1],c = 'red')\n",
    "    ax.set_xlim(2,8)\n",
    "    ax.set_ylim(0,5)\n",
    "    xticks = np.linspace(2,8,7)\n",
    "    yticks = np.linspace(0,5,6)\n",
    "    xlabels = ['%.0f'%i for i in -xticks-3.0]\n",
    "    ylabels = ['%.1f'%i for i in -0.5*yticks - 1.0]\n",
    "    plt.xticks(xticks, xlabels)\n",
    "    plt.yticks(yticks, ylabels)\n",
    "    plt.xlabel('log$_{10}$(Regularization)')\n",
    "    plt.ylabel('log$_{10}$(1 - Forgetting)')\n",
    "    plt.title('Color Input Weight: %.3f, Mean Input Weight: %.3f' % ((test_weight-5)*0.2, (test_weight-5)*0.2))\n",
    "    \n",
    "update = lambda i: animate(i,ax,mean_data,covmats,W,R,func_vals,test_weight)\n",
    "init = lambda : init_base(ax,W,R,func_vals)\n",
    "\n",
    "ani = FuncAnimation(fig, update, frames = num_frames, init_func = init, blit = False)\n",
    "\n",
    "ani.save('test_rls_cweight.gif')\n",
    "fig.show()\n",
    "\n",
    "fig2 = plt.figure()\n",
    "\n",
    "ax2 = fig2.add_subplot(1,1,1)\n",
    "line, = ax2.plot([],[],lw = 2, color = 'red')\n",
    "\n",
    "def init2(ax2, line, num_frames):\n",
    "    ax2.set_xlim(0,num_frames)\n",
    "    ax2.set_ylim(0,2.25)\n",
    "    ax2.set_xlabel('CMA-ES Generation')\n",
    "    ax2.set_ylabel('Median Valid Time')\n",
    "    ax2.grid()\n",
    "    line.set_data([],[])\n",
    "    return line,\n",
    "\n",
    "def animate2(i, line, mean_func):\n",
    "    line.set_data(np.arange(i+1),np.append(np.array([0]),-mean_func[:i]))\n",
    "    return line,\n",
    "    \n",
    "\n",
    "init_fun = lambda : init2(ax2, line, num_frames)    \n",
    "update2 = lambda i: animate2(i,line, mean_func)\n",
    "\n",
    "ani2 = FuncAnimation(fig2, update2, frames = num_frames, init_func = init_fun, blit = True)\n",
    "\n",
    "ani2.save('test2_rls_cweight.gif')\n",
    "\n"
   ]
  },
  {
   "cell_type": "code",
   "execution_count": null,
   "metadata": {},
   "outputs": [],
   "source": [
    "res2 = reservoir(3,210,forget = 1, input_weight = 0.25*0.05735187596920699, regularization = 10**(-9.310114193664688), seed = 3)\n",
    "num_tests = 5000\n",
    "pred_length = 500\n",
    "train_length = 400\n",
    "sync_length = 200\n",
    "valid_times_norm = cross_validation_performance_resync(scaled_data,res2,num_tests,sync_length, \\\n",
    "   train_length, pred_length,train_method = 'Normal', progress = True)\n",
    "print(np.median(valid_times_norm))"
   ]
  },
  {
   "cell_type": "code",
   "execution_count": null,
   "metadata": {},
   "outputs": [],
   "source": [
    "res1 = reservoir(3,200,forget = 0.995, input_weight = 0.01, LM_regularization = 1e-10, delta = 1e6)\n",
    "res2 = reservoir(3,200,forget = 1, input_weight = 0.01, regularization = 1e-7)"
   ]
  },
  {
   "cell_type": "code",
   "execution_count": null,
   "metadata": {},
   "outputs": [],
   "source": [
    "data_length = 100000\n",
    "step = 0.05\n",
    "r_t = lambda x: r_t_const(x)\n",
    "dxdt = lambda x,t,r_t: dxdt_lorenz(x,t,r_t)\n",
    "data = getLorenzData(data_length, r_t, dxdt, sample_tau = step)\n",
    "\n",
    "sync_length = 200\n",
    "num_tests = 500\n",
    "train_length = 800\n",
    "pred_length = 500\n",
    "\n",
    "# scaler = preprocessing.StandardScaler().fit(data)\n",
    "# scaled_data = scaler.transform(data)\n",
    "scaled_data = np.copy(data)\n",
    "scaled_data = np.ascontiguousarray(scaled_data)"
   ]
  },
  {
   "cell_type": "code",
   "execution_count": null,
   "metadata": {},
   "outputs": [],
   "source": [
    "valid_times_RLS = cross_validation_performance(scaled_data,res1,num_tests,sync_length, \\\n",
    "   train_length, pred_length,train_method = 'RLS')\n",
    "print(np.median(valid_times_RLS))\n",
    "valid_times_norm = cross_validation_performance(scaled_data,res2,num_tests,sync_length, \\\n",
    "   train_length, pred_length,train_method = 'Normal')\n",
    "print(np.median(valid_times_norm))"
   ]
  },
  {
   "cell_type": "code",
   "execution_count": null,
   "metadata": {},
   "outputs": [],
   "source": [
    "res1 = reservoir(3,300,forget = 0.985, input_weight = 0.01, regularization = 1e-8, \\\n",
    "     t_regularization = 5e-5, delta = 1e6, t_weighted = True)"
   ]
  },
  {
   "cell_type": "code",
   "execution_count": null,
   "metadata": {},
   "outputs": [],
   "source": [
    "# valid_times_norm_array = np.loadtxt('Lorenz63Data/valid_times_norm_tweight_forget%f_reg%e_treg%e.csv' \\\n",
    "#     %(res1.forget, res1.regularization, res1.t_regularization), delimiter = ',')"
   ]
  },
  {
   "cell_type": "code",
   "execution_count": null,
   "metadata": {},
   "outputs": [],
   "source": [
    "step = 0.05\n",
    "base_data_length = 25000\n",
    "data_length = int(base_data_length * step/(0.01))\n",
    "r_t = lambda x: r_t_cosine(x)\n",
    "dxdt = lambda x,t,r_t: dxdt_lorenz(x,t,r_t)\n",
    "valid_times_norm_array = np.array([])\n",
    "\n",
    "sync_length = 1000\n",
    "num_tests = 300\n",
    "train_length = 800\n",
    "pred_length = 200\n",
    "completed_seeds = valid_times_norm_array.shape[0]\n",
    "\n",
    "# scaler = preprocessing.StandardScaler().fit(data)\n",
    "# scaled_data = scaler.transform(data)\n",
    "from tqdm import tqdm\n",
    "with tqdm(total = num_tests) as pbar:\n",
    "    for seed in range(num_tests):\n",
    "        data = getLorenzData(data_length, r_t, dxdt, sample_tau = step, seed = seed)\n",
    "        scaled_data = np.ascontiguousarray(data)\n",
    "        valid_times_norm = cross_validation_performance_versust(scaled_data,res1,sync_length, \\\n",
    "               train_length, pred_length,pred_gap_length = 100, train_method = 'Normal', progress = False)\n",
    "        if valid_times_norm_array.size == 0:\n",
    "            valid_times_norm_array = np.copy(valid_times_norm)\n",
    "        else:\n",
    "            valid_times_norm_array = np.vstack((valid_times_norm_array,valid_times_norm))\n",
    "        np.savetxt('Lorenz63Data/valid_times_norm_tweight_forget%f_reg%e_treg%e.csv' %(res1.forget, res1.regularization, res1.t_regularization), \\\n",
    "            valid_times_norm_array, delimiter = ',')\n",
    "        pbar.update(1)"
   ]
  },
  {
   "cell_type": "code",
   "execution_count": null,
   "metadata": {},
   "outputs": [],
   "source": [
    "np.savetxt('Lorenz63Data/valid_times_norm_tweight_forget%f_reg%e_treg%e.csv' %(res1.forget, res1.regularization, res1.t_regularization), \\\n",
    "    valid_times_norm_array, delimiter = ',')"
   ]
  },
  {
   "cell_type": "code",
   "execution_count": null,
   "metadata": {},
   "outputs": [],
   "source": [
    "plt.plot(np.mean(valid_times_norm_array*0.05,axis = 0))\n",
    "plt.ylim(0,5)\n",
    "plt.show()"
   ]
  },
  {
   "cell_type": "code",
   "execution_count": null,
   "metadata": {},
   "outputs": [],
   "source": [
    "res1 = reservoir(3,300,forget = 0.985, input_weight = 0.01, LM_regularization = 1e-10, \\\n",
    "     t_regularization = 0, delta = 1e6, t_weighted = False, RLS_reg_type = 'LM')\n",
    "step = 0.05\n",
    "base_data_length = 5000\n",
    "data_length = int(base_data_length * step/(0.01))\n",
    "r_t = lambda x: r_t_cosine(x)\n",
    "dxdt = lambda x,t,r_t: dxdt_lorenz(x,t,r_t)\n",
    "valid_times_norm_array = np.array([])\n",
    "\n",
    "sync_length = 500\n",
    "num_tests = 100\n",
    "train_length = 2000\n",
    "pred_length = 400"
   ]
  },
  {
   "cell_type": "code",
   "execution_count": null,
   "metadata": {},
   "outputs": [],
   "source": [
    "data = getLorenzData(data_length, r_t, dxdt, sample_tau = step, seed = 1)\n",
    "new_data = np.ascontiguousarray(data)"
   ]
  },
  {
   "cell_type": "code",
   "execution_count": null,
   "metadata": {},
   "outputs": [],
   "source": [
    "res1.trainWoutRLS(scaled_data[2800:3800],200)\n",
    "res1.valid_time(scaled_data[3800:4200],plot = True, error_bound = 3.2)"
   ]
  },
  {
   "cell_type": "code",
   "execution_count": null,
   "metadata": {},
   "outputs": [],
   "source": [
    "valid_times_norm = cross_validation_performance_separated(scaled_data,res1,sync_length, \\\n",
    "               train_length, pred_length, train_method = 'RLS', progress = False)\n",
    "print(np.median(valid_times_norm))"
   ]
  },
  {
   "cell_type": "code",
   "execution_count": null,
   "metadata": {},
   "outputs": [],
   "source": [
    "# scaler = preprocessing.StandardScaler().fit(data)\n",
    "# scaled_data = scaler.transform(data)\n",
    "from tqdm import tqdm\n",
    "with tqdm(total = num_tests) as pbar:\n",
    "    for seed in range(num_tests):\n",
    "        data = getLorenzData(data_length, r_t, dxdt, sample_tau = step, seed = seed)\n",
    "        scaled_data = np.ascontiguousarray(data)\n",
    "        valid_times_norm = cross_validation_performance_versust(scaled_data,res1,sync_length, \\\n",
    "               train_length, pred_length,pred_gap_length = 100, train_method = 'RLS', progress = False)\n",
    "        if valid_times_norm_array.size == 0:\n",
    "            valid_times_norm_array = np.copy(valid_times_norm)\n",
    "        else:\n",
    "            valid_times_norm_array = np.vstack((valid_times_norm_array,valid_times_norm))\n",
    "        np.savetxt('Lorenz63Data/valid_times_rls_tweight_forget%f_reg%e_treg%e.csv' %(res1.forget, \\\n",
    "            res1.regularization, res1.t_regularization), valid_times_norm_array, delimiter = ',')\n",
    "        pbar.update(1)"
   ]
  },
  {
   "cell_type": "code",
   "execution_count": null,
   "metadata": {},
   "outputs": [],
   "source": [
    "plt.plot(np.mean(valid_times_norm_array*0.05,axis = 0))\n",
    "plt.ylim(0,5)\n",
    "plt.show()"
   ]
  },
  {
   "cell_type": "code",
   "execution_count": null,
   "metadata": {},
   "outputs": [],
   "source": [
    "x = np.array([[1,2],[3,4]])\n",
    "np.mean(x,axis = 1)"
   ]
  },
  {
   "cell_type": "code",
   "execution_count": null,
   "metadata": {},
   "outputs": [],
   "source": []
  }
 ],
 "metadata": {
  "kernelspec": {
   "display_name": "Python 3",
   "language": "python",
   "name": "python3"
  },
  "language_info": {
   "codemirror_mode": {
    "name": "ipython",
    "version": 3
   },
   "file_extension": ".py",
   "mimetype": "text/x-python",
   "name": "python",
   "nbconvert_exporter": "python",
   "pygments_lexer": "ipython3",
   "version": "3.7.9"
  }
 },
 "nbformat": 4,
 "nbformat_minor": 4
}
