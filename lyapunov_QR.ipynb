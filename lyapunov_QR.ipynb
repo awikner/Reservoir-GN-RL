{
 "cells": [
  {
   "cell_type": "code",
   "execution_count": 16,
   "metadata": {},
   "outputs": [
    {
     "name": "stdout",
     "output_type": "stream",
     "text": [
      "[ 9.10136680e-01 -8.37767660e-05 -1.45766143e+01]\n"
     ]
    }
   ],
   "source": [
    "import numpy as np\n",
    "from scipy.linalg import orth\n",
    "\n",
    "def dxdt(x,model_params):\n",
    "    # Define the function here\n",
    "    return x\n",
    "def dxdt_tan(x,dx,model_params):\n",
    "    # Define the tangent map here\n",
    "    return dx\n",
    "def dxdt_lorenz63(x, sigma = 10., beta = 8/3, rho = 28.):\n",
    "    return np.array([sigma*(- x[0] + x[1]),\\\n",
    "                     rho*x[0] - x[1] - x[0]*x[2],\\\n",
    "                     x[0]*x[1]-beta*x[2]])\n",
    "def dxdt_lorenz63_tan(x, dx, sigma = 10., beta = 8/3, rho = 28.):\n",
    "    return np.array([sigma*(- dx[0] + dx[1]),\\\n",
    "                     rho*dx[0] - x[0]*dx[2] - dx[0]*x[2] - dx[1],\\\n",
    "                     dx[0]*x[1]+x[0]*dx[1]-beta*dx[2]])\n",
    "def rk4_integrator(x,tau,dxdt):\n",
    "    # 4th order runge-kutta integrator for systems with no explicit time dependence\n",
    "    k1 = dxdt(x)\n",
    "    k2 = dxdt(x + k1/2*tau)\n",
    "    k3 = dxdt(x + k2/2*tau)\n",
    "    k4 = dxdt(x + tau*k3)\n",
    "    \n",
    "    xnext = x + 1/6*tau*(k1+2*k2+2*k3+k4)\n",
    "    return xnext\n",
    "def rk4_tan_integrator(x,dx,tau,dxdt):\n",
    "    # 4th order runge-kutta integrator for tangent map of systems with no explicit time dependence\n",
    "    k1 = dxdt(x,dx)\n",
    "    k2 = dxdt(x,dx + k1/2*tau)\n",
    "    k3 = dxdt(x,dx + k2/2*tau)\n",
    "    k4 = dxdt(x,dx + tau*k3)\n",
    "    \n",
    "    dxnext = dx + 1/6*tau*(k1+2*k2+2*k3+k4)\n",
    "    return dxnext\n",
    "    \n",
    "num_elements  = 3     # Dimension of dynamical system\n",
    "num_exponents = 3     # Number of exponents to be calculated, must be <= dynamical system dimension\n",
    "tau           = 0.01  # Integration time step, !!MUST BE SMALL!!\n",
    "iterations    = 20000 # Total number of algorithm iterations\n",
    "iteration_length = 10 # Number of steps in each iteration before normalization\n",
    "transient = 5000      # Length of transient\n",
    "\n",
    "x = np.random.rand(num_elements)\n",
    "for i in range(transient):\n",
    "    x = rk4_integrator(x,tau,dxdt_lorenz63) # Allow initial condition to evolve to attractor\n",
    "    \n",
    "vecs = np.random.rand(num_elements,num_exponents) # Initialize tangent vectors\n",
    "vecs = orth(vecs)\n",
    "\n",
    "Rs = np.zeros((num_exponents,iterations))\n",
    "\n",
    "# Begin computation\n",
    "for iterate in range(iterations):\n",
    "    for step in range(iteration_length):\n",
    "        for exponent in range(num_exponents):\n",
    "            vecs[:,exponent] = rk4_tan_integrator(x,vecs[:,exponent],tau,dxdt_lorenz63_tan) # Compute tangent vector evolution\n",
    "        x = rk4_integrator(x,tau,dxdt_lorenz63) # Compute vector evolution\n",
    "    \n",
    "    Q,R = np.linalg.qr(vecs) # Find QR factoriation\n",
    "    Rs[:,iterate] = np.diag(R) # Extract lyapunov numbers over this iteration\n",
    "    vecs = np.copy(Q) # Set renormalized tangent vectors\n",
    "    \n",
    "Rs = Rs + 0.0j\n",
    "total_time = tau*iterations*iteration_length\n",
    "lyapunov_exps = np.real(np.sum(np.log(Rs),axis = 1))/total_time # Calculate exponents\n",
    "print(lyapunov_exps)"
   ]
  }
 ],
 "metadata": {
  "kernelspec": {
   "display_name": "Python 3",
   "language": "python",
   "name": "python3"
  },
  "language_info": {
   "codemirror_mode": {
    "name": "ipython",
    "version": 3
   },
   "file_extension": ".py",
   "mimetype": "text/x-python",
   "name": "python",
   "nbconvert_exporter": "python",
   "pygments_lexer": "ipython3",
   "version": "3.7.5"
  }
 },
 "nbformat": 4,
 "nbformat_minor": 2
}
