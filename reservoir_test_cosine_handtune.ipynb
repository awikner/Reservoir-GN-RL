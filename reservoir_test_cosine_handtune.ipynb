{
 "cells": [
  {
   "cell_type": "code",
   "execution_count": 1,
   "metadata": {},
   "outputs": [],
   "source": [
    "from reservoir_rls import *\n",
    "import matplotlib.pyplot as plt\n",
    "from lorenz63 import *\n",
    "from scipy.signal import welch, periodogram"
   ]
  },
  {
   "cell_type": "code",
   "execution_count": 2,
   "metadata": {},
   "outputs": [
    {
     "name": "stderr",
     "output_type": "stream",
     "text": [
      "100%|████████████████████████████████████████████████████████████████████████████████| 100/100 [00:55<00:00,  1.81it/s]"
     ]
    },
    {
     "name": "stdout",
     "output_type": "stream",
     "text": [
      "(140000, 3)\n"
     ]
    },
    {
     "name": "stderr",
     "output_type": "stream",
     "text": [
      "\n"
     ]
    }
   ],
   "source": [
    "step = 0.05\n",
    "start_time = 125\n",
    "sync_length = 200\n",
    "num_tests = 500\n",
    "train_length = 800\n",
    "pred_length = 400\n",
    "base_data_length = int(start_time/step)\n",
    "data_length = int(base_data_length * step/(0.01))+pred_length\n",
    "r_t = lambda x: r_t_cosine(x)\n",
    "dxdt = lambda x,t,r_t: dxdt_lorenz(x,t,r_t)\n",
    "\n",
    "num_tests = 100\n",
    "with tqdm(total = num_tests) as pbar:\n",
    "    for seed in range(num_tests):\n",
    "        data = getLorenzData(data_length, r_t, dxdt, sample_tau = step, seed = seed)\n",
    "        if seed == 0:\n",
    "            optim_data = data[-sync_length - train_length - pred_length:]\n",
    "        else:\n",
    "            optim_data = np.vstack((optim_data, data[-sync_length - train_length - pred_length:]))\n",
    "        pbar.update(1)\n",
    "print(optim_data.shape)\n",
    "\n",
    "# scaler = preprocessing.StandardScaler().fit(data)\n",
    "# scaled_data = scaler.transform(data)\n",
    "scaled_data = np.copy(optim_data)\n",
    "scaled_data = np.ascontiguousarray(scaled_data)"
   ]
  },
  {
   "cell_type": "code",
   "execution_count": 4,
   "metadata": {},
   "outputs": [
    {
     "name": "stdout",
     "output_type": "stream",
     "text": [
      "25.5 -0.08333333333333337\n",
      "25.5 1.0\n",
      "25.5 1e-06\n"
     ]
    }
   ],
   "source": [
    "num_nodes = 210\n",
    "num_tests = 100\n",
    "train_length = 800\n",
    "sync_length = 200\n",
    "pred_length = 400\n",
    "res_seed = 1\n",
    "input_weights = np.linspace(-1,1,25)\n",
    "regularizations = np.logspace(-13,-3,11)\n",
    "forgets = np.array([1,0.999,0.995,0.99,0.985,0.98,0.97])\n",
    "\n",
    "vts = np.zeros(input_weights.size)\n",
    "for i, weight in enumerate(input_weights):\n",
    "    res1 = reservoir(3,num_nodes,input_weight = weight, seed = res_seed, forget = 1.)\n",
    "    results = cross_validation_performance_separated(scaled_data, res1, num_tests, sync_length, train_length, pred_length, \\\n",
    "         errormax = 3.2, train_method = 'Normal', progress = False)\n",
    "    vts[i] = np.median(results)\n",
    "best_weight = input_weights[vts == np.max(vts)][0]\n",
    "print(np.max(vts), best_weight)\n",
    "\n",
    "vts = np.zeros(forgets.size)\n",
    "for i, forget in enumerate(forgets):\n",
    "    res1 = reservoir(3,num_nodes, input_weight = best_weight, \\\n",
    "                     forget = forget, seed = res_seed)\n",
    "    results = cross_validation_performance_separated(scaled_data, res1, num_tests, sync_length, train_length, pred_length, \\\n",
    "         errormax = 3.2, train_method = 'Normal', progress = False)\n",
    "    vts[i] = np.median(results)\n",
    "best_forget = forgets[vts == np.max(vts)][0]\n",
    "print(np.max(vts), best_forget)\n",
    "\n",
    "vts = np.zeros(regularizations.size)\n",
    "for i, regularization in enumerate(regularizations):\n",
    "    res1 = reservoir(3,num_nodes, input_weight = best_weight, \\\n",
    "             regularization = regularization, seed = res_seed, forget = best_forget)\n",
    "    results = cross_validation_performance_separated(scaled_data, res1, num_tests, sync_length, train_length, pred_length, \\\n",
    "         errormax = 3.2, train_method = 'Normal', progress = False)\n",
    "    vts[i] = np.median(results)\n",
    "best_regularization = regularizations[vts == np.max(vts)][0]\n",
    "print(np.max(vts), best_regularization)"
   ]
  },
  {
   "cell_type": "code",
   "execution_count": null,
   "metadata": {},
   "outputs": [],
   "source": [
    "step = 0.05\n",
    "start_time = 125\n",
    "sync_length = 200\n",
    "num_tests = 500\n",
    "train_length = 800\n",
    "pred_length = 400\n",
    "seed = 25\n",
    "base_data_length = int(start_time/step)\n",
    "data_length = int(base_data_length * step/(0.01))+pred_length\n",
    "r_t = lambda x: r_t_cosine(x)\n",
    "dxdt = lambda x,t,r_t: dxdt_lorenz(x,t,r_t)\n",
    "\n",
    "num_tests = 100\n",
    "with tqdm(total = num_tests) as pbar:\n",
    "    for seed in range(num_tests):\n",
    "        data = getLorenzData(data_length, r_t, dxdt, sample_tau = step, seed = seed)\n",
    "        if seed == 0:\n",
    "            optim_data = data[-sync_length - train_length - pred_length:]\n",
    "        else:\n",
    "            optim_data = np.vstack((optim_data, data[-sync_length - train_length - pred_length:]))\n",
    "        pbar.update(1)\n",
    "print(optim_data.shape)\n",
    "\n",
    "# scaler = preprocessing.StandardScaler().fit(data)\n",
    "# scaled_data = scaler.transform(data)\n",
    "scaled_data = np.copy(optim_data)\n",
    "scaled_data = np.ascontiguousarray(scaled_data)"
   ]
  },
  {
   "cell_type": "code",
   "execution_count": 12,
   "metadata": {},
   "outputs": [
    {
     "name": "stdout",
     "output_type": "stream",
     "text": [
      "Test Valid Time: 35.000000\n"
     ]
    }
   ],
   "source": [
    "res1 = reservoir(3,num_nodes, input_weight = best_weight, regularization = best_regularization, \\\n",
    "                     forget = best_forget, seed = res_seed)\n",
    "results = cross_validation_performance_separated(scaled_data, res1, num_tests, sync_length, train_length, pred_length, \\\n",
    "     errormax = 3.2, train_method = 'Normal', progress = False)\n",
    "\n",
    "print('Test Valid Time: %f' % np.median(results))"
   ]
  },
  {
   "cell_type": "code",
   "execution_count": null,
   "metadata": {},
   "outputs": [],
   "source": []
  }
 ],
 "metadata": {
  "kernelspec": {
   "display_name": "Python 3",
   "language": "python",
   "name": "python3"
  },
  "language_info": {
   "codemirror_mode": {
    "name": "ipython",
    "version": 3
   },
   "file_extension": ".py",
   "mimetype": "text/x-python",
   "name": "python",
   "nbconvert_exporter": "python",
   "pygments_lexer": "ipython3",
   "version": "3.7.9"
  }
 },
 "nbformat": 4,
 "nbformat_minor": 4
}
