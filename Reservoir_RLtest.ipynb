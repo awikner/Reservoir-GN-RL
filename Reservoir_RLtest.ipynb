{
 "cells": [
  {
   "cell_type": "code",
   "execution_count": 79,
   "metadata": {},
   "outputs": [],
   "source": [
    "import numpy as np\n",
    "import pandas as pd\n",
    "import scipy.sparse as sparse\n",
    "from scipy.stats import pearsonr\n",
    "from scipy.sparse import linalg\n",
    "from scipy.linalg import solve\n",
    "import matplotlib.pyplot as plt"
   ]
  },
  {
   "cell_type": "code",
   "execution_count": 74,
   "metadata": {},
   "outputs": [],
   "source": [
    "input_weight = 1.;\n",
    "spectral_radius = 0.9;\n",
    "regularization = 1e-4;\n",
    "average_degree = 20;\n",
    "leakage = 0;\n",
    "transient_length = 1000;\n",
    "train_length = 100000;\n",
    "approx_num_nodes = 1000;\n",
    "\n",
    "reader = pd.read_csv('KS_train_input_sequence_N64.csv')\n",
    "train_input_sequence = reader.to_numpy().transpose()\n",
    "reader = pd.read_csv('KS_test_input_sequence_N64.csv')\n",
    "test_input_sequence = reader.to_numpy().transpose()\n",
    "reader = pd.read_csv('KS_pred_start_indices_N64.csv')\n",
    "start_iter = reader.to_numpy()\n",
    "\n",
    "input_size = train_input_sequence.shape[0]\n",
    "num_nodes = int(np.ceil(approx_num_nodes/input_size)*input_size);\n",
    "\n",
    "A_mat = np.random.rand(num_nodes,num_nodes)\n",
    "threshold = (num_nodes**2 - average_degree*num_nodes)/(num_nodes**2)\n",
    "Ap_mat = np.zeros((num_nodes,num_nodes))\n",
    "for x in range(num_nodes):\n",
    "    for y in range(num_nodes):\n",
    "        if A_mat[x,y]>threshold:\n",
    "            Ap_mat[x,y] = A_mat[x,y]\n",
    "\n",
    "Ap_mat = sparse.coo_matrix(Ap_mat)\n",
    "eg = linalg.eigs(Ap_mat, k = 1, return_eigenvectors=False)\n",
    "Ap_mat = spectral_radius/np.abs(eg[0])*Ap_mat\n",
    "\n",
    "q = int(np.floor(num_nodes/(input_size)))\n",
    "win = np.zeros((num_nodes,input_size))\n",
    "for i in range(input_size):\n",
    "    np.random.seed(i)\n",
    "    ip = (-1 + 2*np.random.randn(q));\n",
    "    win[i*q:(i+1)*q,i] = input_weight*ip;\n",
    "    \n",
    "x = np.zeros(num_nodes)\n",
    "states = np.zeros((num_nodes, train_length))"
   ]
  },
  {
   "cell_type": "code",
   "execution_count": 75,
   "metadata": {},
   "outputs": [],
   "source": [
    "for t in range(transient_length):\n",
    "    x = leakage*x + (1-leakage)*np.tanh(Ap_mat.dot(x) + np.matmul(win,train_input_sequence[:,t]))\n",
    "    \n",
    "states[:,0] = x;\n",
    "\n",
    "for t in range(train_length-1):\n",
    "    states[:,t+1] = leakage*states[:,t] + (1-leakage)*\\\n",
    "    np.tanh(Ap_mat.dot(states[:,t]) + np.matmul(win,train_input_sequence[:,t+transient_length]))\n",
    "    \n",
    "aug_states = np.copy(states)\n",
    "aug_states[::2,:] = np.power(states[::2,:],2)\n",
    "idenmat = regularization*sparse.identity(num_nodes)\n",
    "data_trstates = np.matmul(train_input_sequence[:,transient_length:transient_length+train_length],\\\n",
    "                         np.transpose(aug_states))\n",
    "states_trstates = np.matmul(aug_states,np.transpose(aug_states))"
   ]
  },
  {
   "cell_type": "code",
   "execution_count": 80,
   "metadata": {},
   "outputs": [],
   "source": [
    "wout = np.transpose(solve(np.transpose(states_trstates + idenmat),np.transpose(data_trstates)))"
   ]
  },
  {
   "cell_type": "code",
   "execution_count": 81,
   "metadata": {},
   "outputs": [
    {
     "name": "stdout",
     "output_type": "stream",
     "text": [
      "[[ 1.02971763e-02 -1.66581605e+00  4.06959559e-02 ...  1.07122558e-02\n",
      "  -8.34844807e-04  3.15668597e-02]\n",
      " [ 7.17322446e-03 -1.57744151e+00  1.45837362e-02 ... -1.97929086e-03\n",
      "  -1.40837512e-02  4.44019154e-02]\n",
      " [ 5.26264294e-03 -1.27164604e+00 -1.00548658e-02 ... -2.28531146e-02\n",
      "  -2.43469609e-02  3.73643016e-02]\n",
      " ...\n",
      " [ 7.01955990e-03 -5.87887113e-01  5.19202256e-02 ...  5.50276506e-03\n",
      "   2.66558216e-02 -5.88076185e-04]\n",
      " [ 1.03985751e-02 -1.09631079e+00  6.27956026e-02 ...  8.41994039e-03\n",
      "   2.29912140e-02  5.65112610e-03]\n",
      " [ 1.03740042e-02 -1.47824051e+00  5.74528742e-02 ...  1.42262600e-02\n",
      "   1.34585784e-02  2.59330866e-02]]\n"
     ]
    }
   ],
   "source": [
    "test_results = test_reservoir(win,Ap_mat,wout,test_input_sequence,start_iter)\n",
    "A_new = np.maximum(ones(num_nodes,num_nodes), A_mat + threefactor(wout,aug_states))"
   ]
  },
  {
   "cell_type": "code",
   "execution_count": null,
   "metadata": {},
   "outputs": [],
   "source": []
  }
 ],
 "metadata": {
  "kernelspec": {
   "display_name": "Python 3",
   "language": "python",
   "name": "python3"
  },
  "language_info": {
   "codemirror_mode": {
    "name": "ipython",
    "version": 3
   },
   "file_extension": ".py",
   "mimetype": "text/x-python",
   "name": "python",
   "nbconvert_exporter": "python",
   "pygments_lexer": "ipython3",
   "version": "3.7.5"
  }
 },
 "nbformat": 4,
 "nbformat_minor": 2
}
