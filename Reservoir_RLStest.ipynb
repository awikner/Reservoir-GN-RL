{
 "cells": [
  {
   "cell_type": "code",
   "execution_count": 32,
   "metadata": {},
   "outputs": [],
   "source": [
    "import numpy as np\n",
    "import pandas as pd\n",
    "import scipy.sparse as sparse\n",
    "from scipy.stats import pearsonr\n",
    "from scipy.sparse import linalg\n",
    "from scipy.linalg import solve, pinv\n",
    "import matplotlib.pyplot as plt"
   ]
  },
  {
   "cell_type": "code",
   "execution_count": 33,
   "metadata": {},
   "outputs": [],
   "source": [
    "def dxdt_lorenz(x,time,r_t, sigma = 10., beta = 8/3, rho = 28.):\n",
    "    return np.array([sigma*(- x[0] + x[1]),\\\n",
    "                     r_t(time)*rho*x[0] - x[1] - x[0]*x[2],\\\n",
    "                     x[0]*x[1]-beta*x[2]])\n",
    "    \n",
    "def rk4(x, time, tau, r_t, dxdt):\n",
    "    k1 = dxdt(x, time, r_t)\n",
    "    k2 = dxdt(x + k1/2*tau, time + tau/2, r_t)\n",
    "    k3 = dxdt(x + k2/2*tau, time + tau/2, r_t)\n",
    "    k4 = dxdt(x + tau*k3, time + tau, r_t)\n",
    "    \n",
    "    xnext = x + 1/6*tau*(k1+2*k2+2*k3+k4)\n",
    "    return xnext\n",
    "\n",
    "def getLorenzData(data_length, r_t, dxdt_lorenz,transient_length = 1000, tau = 0.1):\n",
    "    x = np.random.rand(3)\n",
    "    time = -transient_length*tau\n",
    "    for i in range(0,transient_length):\n",
    "        x = rk4(x,time,tau,r_t,dxdt_lorenz)\n",
    "        time += tau\n",
    "    \n",
    "    data = np.zeros((3,data_length))\n",
    "    data[:,0] = x\n",
    "    for i in range(0,data_length-1):\n",
    "        data[:,i+1] = rk4(data[:,i],time,tau,r_t,dxdt_lorenz)\n",
    "        time += tau\n",
    "        \n",
    "    return data\n",
    "\n",
    "def r_t_cosine(time, period = 500, max_height = 48/28):\n",
    "    r = 1 + (max_height-1.)/2 - (max_height-1)/2*np.cos(2*np.pi/period*time)\n",
    "    return r\n",
    "\n",
    "def r_t_const(time, value = 1):\n",
    "    # Function for constant rho value\n",
    "    r = value\n",
    "    return r\n",
    "\n",
    "def advanceReservoir(win,A_mat,x,u,leakage):\n",
    "    x_next = leakage*x + (1-leakage)*np.tanh(A_mat.dot(x) + np.matmul(win,u))\n",
    "    return x_next\n",
    "\n",
    "def getPrediction(win, A_mat, wout, x, predict_length, leakage):\n",
    "    prediction = np.zeros((wout.shape[0],predict_length))\n",
    "    aug_x = np.copy(x)\n",
    "    aug_x[::2] = np.power(x[::2],2)\n",
    "    prediction[:,0] = np.matmul(wout,aug_x)\n",
    "    \n",
    "    for pred_idx in range(0,predict_length - 1):\n",
    "        x = advanceReservoir(win, A_mat, x, prediction[:,pred_idx], leakage)\n",
    "        aug_x = np.copy(x)\n",
    "        aug_x[::2] = np.power(x[::2],2)\n",
    "        prediction[:,pred_idx + 1] = np.matmul(wout,aug_x)\n",
    "        \n",
    "    return prediction"
   ]
  },
  {
   "cell_type": "code",
   "execution_count": 34,
   "metadata": {},
   "outputs": [],
   "source": [
    "input_weight = 1e-2\n",
    "spectral_radius = 0.9\n",
    "regularization = 1e-4\n",
    "average_degree = 3\n",
    "leakage = 0\n",
    "forget = 1\n",
    "inv_forget = 1/forget\n",
    "data_seed = 30\n",
    "\n",
    "step = 0.05\n",
    "transient_length = int(50/step)\n",
    "data_length = int(3000/step)\n",
    "train_length = int(200/step)\n",
    "start_length = int(50/step)\n",
    "predict_length = int(20/step)\n",
    "predict_gap_length = int(5/step)\n",
    "num_predictions = 100\n",
    "\n",
    "approx_num_nodes = 300\n",
    "np.random.seed(data_seed)\n",
    "train_input_sequence = getLorenzData(data_length,r_t_cosine,dxdt_lorenz,tau = 0.05)"
   ]
  },
  {
   "cell_type": "code",
   "execution_count": 35,
   "metadata": {},
   "outputs": [],
   "source": [
    "input_size = train_input_sequence.shape[0]\n",
    "num_nodes = int(np.ceil(approx_num_nodes/input_size)*input_size);\n",
    "\n",
    "A_mat = sparse.random(num_nodes,num_nodes, density = average_degree/num_nodes)\n",
    "eg = linalg.eigs(A_mat, k = 1, return_eigenvectors=False)\n",
    "A_mat = spectral_radius/np.abs(eg[0])*A_mat\n",
    "\n",
    "q = int(np.floor(num_nodes/(input_size)))\n",
    "win = np.zeros((num_nodes,input_size))\n",
    "for i in range(input_size):\n",
    "    np.random.seed(i)\n",
    "    ip = (-1 + 2*np.random.randn(q));\n",
    "    win[i*q:(i+1)*q,i] = input_weight*ip;\n",
    "    \n",
    "x = np.zeros(num_nodes)\n",
    "states = np.zeros((num_nodes, start_length))"
   ]
  },
  {
   "cell_type": "code",
   "execution_count": 36,
   "metadata": {},
   "outputs": [],
   "source": [
    "for t in range(transient_length):\n",
    "    x = advanceReservoir(win,A_mat,x,train_input_sequence[:,t],leakage)\n",
    "    \n",
    "states[:,0] = x;\n",
    "\n",
    "for t in range(start_length-1):\n",
    "    states[:,t+1] = advanceReservoir(win,A_mat,states[:,t],train_input_sequence[:,t+transient_length],leakage)\n",
    "    \n",
    "x = states[:,-1]\n",
    "    \n",
    "aug_states = np.copy(states)\n",
    "aug_states[::2,:] = np.power(states[::2,:],2)\n",
    "idenmat = regularization*sparse.identity(num_nodes)\n",
    "s_mat = np.diag(np.power(forget,np.arange(start_length)[::-1]))\n",
    "data_trstates = np.matmul(np.matmul(train_input_sequence[:,transient_length:transient_length+start_length],\\\n",
    "                                    s_mat),\\\n",
    "                          np.transpose(aug_states))\n",
    "states_trstates = np.matmul(np.matmul(aug_states,s_mat),np.transpose(aug_states))\n",
    "states_trstates_inv = pinv(states_trstates + idenmat)\n",
    "wout = np.matmul(data_trstates,states_trstates_inv)\n",
    "\n",
    "wout_norm = np.copy(wout)\n",
    "x_norm = np.copy(x)"
   ]
  },
  {
   "cell_type": "code",
   "execution_count": 37,
   "metadata": {},
   "outputs": [
    {
     "name": "stdout",
     "output_type": "stream",
     "text": [
      "[45. 22. 50. 62. 39. 19. 63. 51. 36. 55. 52. 40. 39. 34. 17. 42. 46. 59.\n",
      " 38. 31. 31. 44. 43. 58. 11. 77. 51. 64. 10. 64. 36. 21. 50. 42. 38. 54.\n",
      " 52. 48. 28. 48. 71. 44. 87. 35. 81. 53. 56. 73. 72. 23. 20. 14. 12. 12.\n",
      " 19. 17. 23. 10. 11. 14.  9.  8. 14. 25.  8. 27. 15. 28. 10. 11. 12.  7.\n",
      "  7.  7. 11. 14.  8. 11.  8.  8. 11.  8. 14.  8. 10.  9. 13.  7. 10. 13.\n",
      " 25. 23. 14. 19. 19. 19. 22. 37. 17. 12.]\n"
     ]
    }
   ],
   "source": [
    "error_cutoff = 1;\n",
    "predictions = np.zeros((input_size,predict_length,num_predictions))\n",
    "errors = np.zeros((predict_length,num_predictions))\n",
    "valid_times = np.zeros(num_predictions)\n",
    "wouts = np.zeros((input_size,num_nodes,num_predictions))\n",
    "for pred in range(num_predictions):\n",
    "    wouts[:,:,pred] = wout\n",
    "    predictions[:,:,pred] = getPrediction(win,A_mat,wout,x,predict_length,leakage)\n",
    "    start_pred_idx = transient_length + start_length + pred*predict_gap_length - 1\n",
    "    truth = train_input_sequence[:,start_pred_idx :start_pred_idx + predict_length]\n",
    "    errors[:,pred] = np.linalg.norm(predictions[:,:,pred] - truth, axis = 0)/np.sqrt(np.mean(truth**2))\n",
    "    \n",
    "    for i in range(predict_length):\n",
    "        if errors[i,pred] > error_cutoff:\n",
    "            break\n",
    "        else:\n",
    "            valid_times[pred] += 1\n",
    "            \n",
    "    for i in range(predict_gap_length):\n",
    "        x = advanceReservoir(win,A_mat,x,train_input_sequence[:,start_pred_idx + i],leakage)\n",
    "        aug_x = np.copy(x)\n",
    "        aug_x[::2] = np.power(x[::2],2)\n",
    "        data_trstates = forget*data_trstates + np.outer(train_input_sequence[:,start_pred_idx + i + 1],aug_x)\n",
    "        \n",
    "        states_trstates_inv = inv_forget*(states_trstates_inv - 1.0/\\\n",
    "                                          (1+inv_forget*np.dot(np.dot(aug_x,states_trstates_inv),aug_x))*\\\n",
    "                                          np.outer(np.dot(states_trstates_inv,aug_x),np.dot(aug_x,states_trstates_inv))\\\n",
    "                                          *inv_forget)\n",
    "        \n",
    "    wout = np.matmul(data_trstates,states_trstates_inv)\n",
    "    \n",
    "    \n",
    "print(valid_times)"
   ]
  },
  {
   "cell_type": "code",
   "execution_count": null,
   "metadata": {},
   "outputs": [],
   "source": [
    "predictions_norm = np.zeros((input_size,predict_length,num_predictions))\n",
    "errors_norm = np.zeros((predict_length,num_predictions))\n",
    "valid_times_norm = np.zeros(num_predictions)\n",
    "wouts_norm = np.zeros((input_size,num_nodes,num_predictions))\n",
    "\n",
    "\n",
    "for pred in range(num_predictions):\n",
    "    wouts_norm[:,:,pred] = wout_norm\n",
    "    predictions_norm[:,:,pred] = getPrediction(win,A_mat,wout_norm,x_norm,predict_length,leakage)\n",
    "    start_pred_idx = transient_length + start_length + pred*predict_gap_length - 1\n",
    "    truth = train_input_sequence[:,start_pred_idx:start_pred_idx + predict_length]\n",
    "    errors_norm[:,pred] = np.linalg.norm(predictions_norm[:,:,pred] - truth, axis = 0)/np.sqrt(np.mean(truth**2))\n",
    "    \n",
    "    for i in range(predict_length):\n",
    "        if errors_norm[i,pred] > error_cutoff:\n",
    "            break\n",
    "        else:\n",
    "            valid_times_norm[pred] += 1\n",
    "            \n",
    "    new_states = np.zeros((num_nodes,predict_gap_length))\n",
    "    for i in range(predict_gap_length):\n",
    "        x_norm = advanceReservoir(win,A_mat,x_norm,train_input_sequence[:,start_pred_idx + i],leakage)\n",
    "        new_states[:,i] = x_norm\n",
    "    \n",
    "    new_aug_states = np.copy(new_states)\n",
    "    new_aug_states[::2,:] = np.power(new_states[::2,:],2)\n",
    "    aug_states = np.concatenate((aug_states,new_aug_states),axis = 1)\n",
    "    s_mat = np.diag(np.power(forget,np.arange(aug_states.shape[1])[::-1]))\n",
    "    data_trstates = np.matmul(np.matmul(train_input_sequence[:,\\\n",
    "                                                             transient_length:start_pred_idx + predict_gap_length + 1],\\\n",
    "                                    s_mat),\\\n",
    "                          np.transpose(aug_states))\n",
    "    states_trstates = np.matmul(np.matmul(aug_states,s_mat),np.transpose(aug_states))\n",
    "        \n",
    "    wout_norm = np.transpose(solve(np.transpose(states_trstates + idenmat),np.transpose(data_trstates)))\n",
    "    \n",
    "    \n",
    "print(valid_times_norm)"
   ]
  },
  {
   "cell_type": "code",
   "execution_count": 28,
   "metadata": {},
   "outputs": [
    {
     "data": {
      "image/png": "[encoded data removed]",
      "text/plain": [
       "<Figure size 432x288 with 1 Axes>"
      ]
     },
     "metadata": {
      "needs_background": "light"
     },
     "output_type": "display_data"
    }
   ],
   "source": [
    "wouts_abs = np.sqrt(np.mean((wouts - wouts_norm)**2,axis = (0,1)))\n",
    "plt.plot(wouts_abs)\n",
    "plt.show()"
   ]
  },
  {
   "cell_type": "code",
   "execution_count": null,
   "metadata": {},
   "outputs": [],
   "source": [
    "times = step*(transient_length + start_length + np.arange(num_predictions)*predict_gap_length)\n",
    "plt.plot(times,r_t_cosine(times))\n",
    "plt.show()\n",
    "plt.plot(predictions[1,:,0])\n",
    "plt.plot(predictions[1,:,50])\n",
    "plt.show"
   ]
  },
  {
   "cell_type": "code",
   "execution_count": null,
   "metadata": {},
   "outputs": [],
   "source": []
  },
  {
   "cell_type": "code",
   "execution_count": null,
   "metadata": {},
   "outputs": [],
   "source": []
  }
 ],
 "metadata": {
  "kernelspec": {
   "display_name": "Python 3",
   "language": "python",
   "name": "python3"
  },
  "language_info": {
   "codemirror_mode": {
    "name": "ipython",
    "version": 3
   },
   "file_extension": ".py",
   "mimetype": "text/x-python",
   "name": "python",
   "nbconvert_exporter": "python",
   "pygments_lexer": "ipython3",
   "version": "3.7.5"
  }
 },
 "nbformat": 4,
 "nbformat_minor": 2
}
