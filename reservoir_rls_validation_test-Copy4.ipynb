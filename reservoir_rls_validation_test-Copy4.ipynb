{
 "cells": [
  {
   "cell_type": "code",
   "execution_count": 1,
   "metadata": {},
   "outputs": [],
   "source": [
    "from reservoir_rls import *\n",
    "from lorenz63 import *\n",
    "from sklearn import preprocessing\n",
    "from scipy.stats import sem\n",
    "import cma\n",
    "from scipy.stats import kstest, norm, shapiro\n",
    "from multiprocessing import Pool\n",
    "from min_func import *\n",
    "from tqdm import tqdm\n",
    "\n",
    "\n",
    "from jupyterthemes import jtplot\n",
    "jtplot.style(theme='monokai', context='notebook', ticks=True, grid=False)"
   ]
  },
  {
   "cell_type": "code",
   "execution_count": 2,
   "metadata": {},
   "outputs": [
    {
     "name": "stderr",
     "output_type": "stream",
     "text": [
      "100%|████████████████████████████████████████████████████████████████████████████████| 100/100 [01:11<00:00,  1.40it/s]"
     ]
    },
    {
     "name": "stdout",
     "output_type": "stream",
     "text": [
      "(140000, 3)\n"
     ]
    },
    {
     "name": "stderr",
     "output_type": "stream",
     "text": [
      "\n"
     ]
    }
   ],
   "source": [
    "step = 0.05\n",
    "start_time = 125\n",
    "sync_length = 200\n",
    "num_tests = 500\n",
    "train_length = 800\n",
    "pred_length = 400\n",
    "base_data_length = int(start_time/step)\n",
    "data_length = int(base_data_length * step/(0.01))+pred_length\n",
    "r_t = lambda x: r_t_cosine(x)\n",
    "dxdt = lambda x,t,r_t: dxdt_lorenz(x,t,r_t)\n",
    "\n",
    "num_tests = 100\n",
    "with tqdm(total = num_tests) as pbar:\n",
    "    for seed in range(num_tests):\n",
    "        data = getLorenzData(data_length, r_t, dxdt, sample_tau = step, seed = seed)\n",
    "        if seed == 0:\n",
    "            optim_data = data[-sync_length - train_length - pred_length:]\n",
    "        else:\n",
    "            optim_data = np.vstack((optim_data, data[-sync_length - train_length - pred_length:]))\n",
    "        pbar.update(1)\n",
    "print(optim_data.shape)\n",
    "\n",
    "# scaler = preprocessing.StandardScaler().fit(data)\n",
    "# scaled_data = scaler.transform(data)\n",
    "scaled_data = np.copy(optim_data)\n",
    "scaled_data = np.ascontiguousarray(scaled_data)"
   ]
  },
  {
   "cell_type": "code",
   "execution_count": 15,
   "metadata": {},
   "outputs": [],
   "source": [
    "num_nodes = 210\n",
    "res_seed = 1\n",
    "base_res = reservoir(3,num_nodes,input_weight = 1, spectral_radius = 1, seed = res_seed)\n",
    "mask = ['input_weight','regularization','forget']\n",
    "x0 = np.array([5, 5, 3])\n",
    "min_func = lambda x: vt_min_function_norm(scaled_data, x, mask, base_res.Win, base_res.A, \\\n",
    "     num_tests = num_tests,  num_nodes = num_nodes, pred_length = pred_length, train_length = train_length,\n",
    "     separated = True)\n",
    "sigma = 2"
   ]
  },
  {
   "cell_type": "code",
   "execution_count": 16,
   "metadata": {},
   "outputs": [
    {
     "name": "stdout",
     "output_type": "stream",
     "text": [
      "Optimization terminated successfully.\n",
      "         Current function value: -36.500000\n",
      "         Iterations: 38\n",
      "         Function evaluations: 127\n"
     ]
    }
   ],
   "source": [
    "from scipy.optimize import minimize\n",
    "opts = {'disp': True, 'return_all': True, 'adaptive': True}\n",
    "NM = minimize(min_func, x0, method = 'Nelder-Mead',options = opts)"
   ]
  },
  {
   "cell_type": "code",
   "execution_count": 17,
   "metadata": {},
   "outputs": [
    {
     "data": {
      "text/plain": [
       "       allvecs: [array([5., 5., 3.]), array([5.25, 5.  , 3.  ]), array([5.27777778, 4.86111111, 2.9       ]), array([5.27777778, 4.86111111, 2.9       ]), array([5.09645062, 5.00385802, 2.96527778]), array([5.09645062, 5.00385802, 2.96527778]), array([5.09645062, 5.00385802, 2.96527778]), array([5.09645062, 5.00385802, 2.96527778]), array([5.09645062, 5.00385802, 2.96527778]), array([5.08746214, 5.05899003, 2.82711445]), array([5.08746214, 5.05899003, 2.82711445]), array([5.08746214, 5.05899003, 2.82711445]), array([5.08746214, 5.05899003, 2.82711445]), array([5.08746214, 5.05899003, 2.82711445]), array([5.08746214, 5.05899003, 2.82711445]), array([5.08746214, 5.05899003, 2.82711445]), array([5.08746214, 5.05899003, 2.82711445]), array([5.08993906, 5.04822821, 2.84743774]), array([5.08993906, 5.04822821, 2.84743774]), array([5.08993906, 5.04822821, 2.84743774]), array([5.08993906, 5.04822821, 2.84743774]), array([5.08993906, 5.04822821, 2.84743774]), array([5.08993906, 5.04822821, 2.84743774]), array([5.08993906, 5.04822821, 2.84743774]), array([5.08993906, 5.04822821, 2.84743774]), array([5.08993906, 5.04822821, 2.84743774]), array([5.08993906, 5.04822821, 2.84743774]), array([5.08993906, 5.04822821, 2.84743774]), array([5.08993906, 5.04822821, 2.84743774]), array([5.08993906, 5.04822821, 2.84743774]), array([5.08993906, 5.04822821, 2.84743774]), array([5.08993906, 5.04822821, 2.84743774]), array([5.08993906, 5.04822821, 2.84743774]), array([5.08993906, 5.04822821, 2.84743774]), array([5.08993906, 5.04822821, 2.84743774]), array([5.08993906, 5.04822821, 2.84743774]), array([5.08993906, 5.04822821, 2.84743774]), array([5.08993906, 5.04822821, 2.84743774])]\n",
       " final_simplex: (array([[5.08993906, 5.04822821, 2.84743774],\n",
       "       [5.08993128, 5.04828798, 2.84737017],\n",
       "       [5.08993154, 5.04827907, 2.84735751],\n",
       "       [5.08994108, 5.04828684, 2.84737552]]), array([-36.5, -36.5, -36.5, -36.5]))\n",
       "           fun: -36.5\n",
       "       message: 'Optimization terminated successfully.'\n",
       "          nfev: 127\n",
       "           nit: 38\n",
       "        status: 0\n",
       "       success: True\n",
       "             x: array([5.08993906, 5.04822821, 2.84743774])"
      ]
     },
     "execution_count": 17,
     "metadata": {},
     "output_type": "execute_result"
    }
   ],
   "source": [
    "NM"
   ]
  },
  {
   "cell_type": "code",
   "execution_count": null,
   "metadata": {},
   "outputs": [],
   "source": [
    "input_weight = 5.066848935533839\n",
    "regs = np.linspace(2,8,25)\n",
    "forgets = np.linspace(0,5,25)\n",
    "func_vals = np.zeros((regs.size, forgets.size))\n",
    "\n",
    "with tqdm(total = regs.size * forgets.size) as pbar:\n",
    "    for i in range(regs.size):\n",
    "        for j in range(forgets.size):\n",
    "            func_vals[i,j] = min_func(np.array([input_weight, regs[i], forgets[j]]))\n",
    "            np.savetxt('rls_func_vals_weight%f.csv'%input_weight, func_vals, delimiter = ',')\n",
    "            pbar.update(1)"
   ]
  },
  {
   "cell_type": "code",
   "execution_count": null,
   "metadata": {},
   "outputs": [],
   "source": [
    "plt.pcolor(regs, forgets, -func_vals.T)\n",
    "plt.colorbar()\n",
    "plt.show()"
   ]
  },
  {
   "cell_type": "code",
   "execution_count": null,
   "metadata": {},
   "outputs": [],
   "source": [
    "from matplotlib.patches import Ellipse\n",
    "import matplotlib.transforms as transforms\n",
    "def confidence_ellipse(mean_x, mean_y, cov, ax, n_std=1.0, facecolor='none', **kwargs):\n",
    "    \"\"\"\n",
    "    Create a plot of the covariance confidence ellipse of *x* and *y*.\n",
    "\n",
    "    Parameters\n",
    "    ----------\n",
    "    x, y : array-like, shape (n, )\n",
    "        Input data.\n",
    "\n",
    "    ax : matplotlib.axes.Axes\n",
    "        The axes object to draw the ellipse into.\n",
    "\n",
    "    n_std : float\n",
    "        The number of standard deviations to determine the ellipse's radiuses.\n",
    "\n",
    "    **kwargs\n",
    "        Forwarded to `~matplotlib.patches.Ellipse`\n",
    "\n",
    "    Returns\n",
    "    -------\n",
    "    matplotlib.patches.Ellipse\n",
    "    \"\"\"\n",
    "    \n",
    "    pearson = cov[0, 1]/np.sqrt(cov[0, 0] * cov[1, 1])\n",
    "    # Using a special case to obtain the eigenvalues of this\n",
    "    # two-dimensionl dataset.\n",
    "    ell_radius_x = np.sqrt(1 + pearson)\n",
    "    ell_radius_y = np.sqrt(1 - pearson)\n",
    "    ellipse = Ellipse((0, 0), width=ell_radius_x * 2, height=ell_radius_y * 2,\n",
    "                      facecolor=facecolor, **kwargs)\n",
    "\n",
    "    # Calculating the stdandard deviation of x from\n",
    "    # the squareroot of the variance and multiplying\n",
    "    # with the given number of standard deviations.\n",
    "    scale_x = np.sqrt(cov[0, 0]) * n_std\n",
    "    # mean_x = np.mean(x)\n",
    "\n",
    "    # calculating the stdandard deviation of y ...\n",
    "    scale_y = np.sqrt(cov[1, 1]) * n_std\n",
    "    # mean_y = np.mean(y)\n",
    "\n",
    "    transf = transforms.Affine2D() \\\n",
    "        .rotate_deg(45) \\\n",
    "        .scale(scale_x, scale_y) \\\n",
    "        .translate(mean_x, mean_y)\n",
    "\n",
    "    ellipse.set_transform(transf + ax.transData)\n",
    "    print(ellipse)\n",
    "    return ax.add_patch(ellipse)"
   ]
  },
  {
   "cell_type": "code",
   "execution_count": null,
   "metadata": {},
   "outputs": [],
   "source": [
    "from matplotlib.animation import FuncAnimation\n",
    "import pandas as pd\n",
    "step = 0.05\n",
    "test_weight = 5.066848935533839\n",
    "\n",
    "covmats = np.loadtxt('cmaes_rls_const_weight_starttime125_res1/covmats.txt', delimiter = ',')\n",
    "mean_data = np.loadtxt('cmaes_rls_const_weight_starttime125_res1/phenomean.txt', delimiter = ',')[2:]\n",
    "num_frames = 92\n",
    "func_vals = np.loadtxt('rls_func_vals_weight%f.csv'%test_weight, delimiter = ',')*step\n",
    "mean_func = pd.read_csv('cmaes_rls_const_weight_starttime125_res1/fit.dat', sep = ' ', header = None, skiprows = [0]).to_numpy()[:,5]*step\n",
    "plt.plot(np.max(np.abs(covmats), axis = 1))\n",
    "plt.xlim(0,num_frames)\n",
    "plt.show()\n",
    "\n",
    "weights = np.linspace(2,8,25)\n",
    "regs = np.linspace(0,5,25)\n",
    "W, R = np.meshgrid(weights, regs)\n",
    "\n",
    "fig = plt.figure()\n",
    "ax = fig.add_subplot(1,1,1)\n",
    "\n",
    "def init_base(ax,W,R,func_vals):\n",
    "    ax.clear()\n",
    "    plt.pcolor(W, R, -func_vals.T)\n",
    "    plt.colorbar()\n",
    "    ax.set_xlim(2,8)\n",
    "    ax.set_ylim(0,5)\n",
    "    xticks = np.linspace(2,8,7)\n",
    "    yticks = np.linspace(0,5,6)\n",
    "    xlabels = ['%.0f'%i for i in -xticks-3.0]\n",
    "    ylabels = ['%.1f'%i for i in -0.5*yticks - 1.0]\n",
    "    plt.xticks(xticks, xlabels)\n",
    "    plt.yticks(yticks, ylabels)\n",
    "    plt.xlabel('log$_{10}$(Regularization)')\n",
    "    plt.ylabel('log$_{10}$(1 - Forgetting)')\n",
    "\n",
    "def animate(i,ax,mean_data,covmats,W, R, func_vals, test_weight):\n",
    "    ax.clear()\n",
    "    plt.pcolor(W, R, -func_vals.T)\n",
    "    confidence_ellipse(mean_data[i,0],mean_data[i,1],covmats[i,:].reshape(2,2),ax,edgecolor = 'red', linewidth = 2)\n",
    "    ax.scatter(mean_data[i,0],mean_data[i,1],c = 'red')\n",
    "    ax.set_xlim(2,8)\n",
    "    ax.set_ylim(0,5)\n",
    "    xticks = np.linspace(2,8,7)\n",
    "    yticks = np.linspace(0,5,6)\n",
    "    xlabels = ['%.0f'%i for i in -xticks-3.0]\n",
    "    ylabels = ['%.1f'%i for i in -0.5*yticks - 1.0]\n",
    "    plt.xticks(xticks, xlabels)\n",
    "    plt.yticks(yticks, ylabels)\n",
    "    plt.xlabel('log$_{10}$(Regularization)')\n",
    "    plt.ylabel('log$_{10}$(1 - Forgetting)')\n",
    "    plt.title('Color Input Weight: %.3f, Mean Input Weight: %.3f' % ((test_weight-5)*0.2, (test_weight-5)*0.2))\n",
    "    \n",
    "update = lambda i: animate(i,ax,mean_data,covmats,W,R,func_vals,test_weight)\n",
    "init = lambda : init_base(ax,W,R,func_vals)\n",
    "\n",
    "ani = FuncAnimation(fig, update, frames = num_frames, init_func = init, blit = False)\n",
    "\n",
    "ani.save('test_rls_cweight.gif')\n",
    "fig.show()\n",
    "\n",
    "fig2 = plt.figure()\n",
    "\n",
    "ax2 = fig2.add_subplot(1,1,1)\n",
    "line, = ax2.plot([],[],lw = 2, color = 'red')\n",
    "\n",
    "def init2(ax2, line, num_frames):\n",
    "    ax2.set_xlim(0,num_frames)\n",
    "    ax2.set_ylim(0,2.25)\n",
    "    ax2.set_xlabel('CMA-ES Generation')\n",
    "    ax2.set_ylabel('Median Valid Time')\n",
    "    ax2.grid()\n",
    "    line.set_data([],[])\n",
    "    return line,\n",
    "\n",
    "def animate2(i, line, mean_func):\n",
    "    line.set_data(np.arange(i+1),np.append(np.array([0]),-mean_func[:i]))\n",
    "    return line,\n",
    "    \n",
    "\n",
    "init_fun = lambda : init2(ax2, line, num_frames)    \n",
    "update2 = lambda i: animate2(i,line, mean_func)\n",
    "\n",
    "ani2 = FuncAnimation(fig2, update2, frames = num_frames, init_func = init_fun, blit = True)\n",
    "\n",
    "ani2.save('test2_rls_cweight.gif')\n",
    "\n"
   ]
  },
  {
   "cell_type": "code",
   "execution_count": null,
   "metadata": {},
   "outputs": [],
   "source": [
    "res2 = reservoir(3,210,forget = 1, input_weight = 0.25*0.05735187596920699, regularization = 10**(-9.310114193664688), seed = 3)\n",
    "num_tests = 5000\n",
    "pred_length = 500\n",
    "train_length = 400\n",
    "sync_length = 200\n",
    "valid_times_norm = cross_validation_performance_resync(scaled_data,res2,num_tests,sync_length, \\\n",
    "   train_length, pred_length,train_method = 'Normal', progress = True)\n",
    "print(np.median(valid_times_norm))"
   ]
  },
  {
   "cell_type": "code",
   "execution_count": null,
   "metadata": {},
   "outputs": [],
   "source": [
    "res1 = reservoir(3,200,forget = 0.995, input_weight = 0.01, LM_regularization = 1e-10, delta = 1e6)\n",
    "res2 = reservoir(3,200,forget = 1, input_weight = 0.01, regularization = 1e-7)"
   ]
  },
  {
   "cell_type": "code",
   "execution_count": null,
   "metadata": {},
   "outputs": [],
   "source": [
    "data_length = 100000\n",
    "step = 0.05\n",
    "r_t = lambda x: r_t_const(x)\n",
    "dxdt = lambda x,t,r_t: dxdt_lorenz(x,t,r_t)\n",
    "data = getLorenzData(data_length, r_t, dxdt, sample_tau = step)\n",
    "\n",
    "sync_length = 200\n",
    "num_tests = 500\n",
    "train_length = 800\n",
    "pred_length = 500\n",
    "\n",
    "# scaler = preprocessing.StandardScaler().fit(data)\n",
    "# scaled_data = scaler.transform(data)\n",
    "scaled_data = np.copy(data)\n",
    "scaled_data = np.ascontiguousarray(scaled_data)"
   ]
  },
  {
   "cell_type": "code",
   "execution_count": null,
   "metadata": {},
   "outputs": [],
   "source": [
    "valid_times_RLS = cross_validation_performance(scaled_data,res1,num_tests,sync_length, \\\n",
    "   train_length, pred_length,train_method = 'RLS')\n",
    "print(np.median(valid_times_RLS))\n",
    "valid_times_norm = cross_validation_performance(scaled_data,res2,num_tests,sync_length, \\\n",
    "   train_length, pred_length,train_method = 'Normal')\n",
    "print(np.median(valid_times_norm))"
   ]
  },
  {
   "cell_type": "code",
   "execution_count": null,
   "metadata": {},
   "outputs": [],
   "source": [
    "res1 = reservoir(3,300,forget = 0.985, input_weight = 0.01, regularization = 1e-8, \\\n",
    "     t_regularization = 5e-5, delta = 1e6, t_weighted = True)"
   ]
  },
  {
   "cell_type": "code",
   "execution_count": null,
   "metadata": {},
   "outputs": [],
   "source": [
    "# valid_times_norm_array = np.loadtxt('Lorenz63Data/valid_times_norm_tweight_forget%f_reg%e_treg%e.csv' \\\n",
    "#     %(res1.forget, res1.regularization, res1.t_regularization), delimiter = ',')"
   ]
  },
  {
   "cell_type": "code",
   "execution_count": null,
   "metadata": {},
   "outputs": [],
   "source": [
    "step = 0.05\n",
    "base_data_length = 25000\n",
    "data_length = int(base_data_length * step/(0.01))\n",
    "r_t = lambda x: r_t_cosine(x)\n",
    "dxdt = lambda x,t,r_t: dxdt_lorenz(x,t,r_t)\n",
    "valid_times_norm_array = np.array([])\n",
    "\n",
    "sync_length = 1000\n",
    "num_tests = 300\n",
    "train_length = 800\n",
    "pred_length = 200\n",
    "completed_seeds = valid_times_norm_array.shape[0]\n",
    "\n",
    "# scaler = preprocessing.StandardScaler().fit(data)\n",
    "# scaled_data = scaler.transform(data)\n",
    "from tqdm import tqdm\n",
    "with tqdm(total = num_tests) as pbar:\n",
    "    for seed in range(num_tests):\n",
    "        data = getLorenzData(data_length, r_t, dxdt, sample_tau = step, seed = seed)\n",
    "        scaled_data = np.ascontiguousarray(data)\n",
    "        valid_times_norm = cross_validation_performance_versust(scaled_data,res1,sync_length, \\\n",
    "               train_length, pred_length,pred_gap_length = 100, train_method = 'Normal', progress = False)\n",
    "        if valid_times_norm_array.size == 0:\n",
    "            valid_times_norm_array = np.copy(valid_times_norm)\n",
    "        else:\n",
    "            valid_times_norm_array = np.vstack((valid_times_norm_array,valid_times_norm))\n",
    "        np.savetxt('Lorenz63Data/valid_times_norm_tweight_forget%f_reg%e_treg%e.csv' %(res1.forget, res1.regularization, res1.t_regularization), \\\n",
    "            valid_times_norm_array, delimiter = ',')\n",
    "        pbar.update(1)"
   ]
  },
  {
   "cell_type": "code",
   "execution_count": null,
   "metadata": {},
   "outputs": [],
   "source": [
    "np.savetxt('Lorenz63Data/valid_times_norm_tweight_forget%f_reg%e_treg%e.csv' %(res1.forget, res1.regularization, res1.t_regularization), \\\n",
    "    valid_times_norm_array, delimiter = ',')"
   ]
  },
  {
   "cell_type": "code",
   "execution_count": null,
   "metadata": {},
   "outputs": [],
   "source": [
    "plt.plot(np.mean(valid_times_norm_array*0.05,axis = 0))\n",
    "plt.ylim(0,5)\n",
    "plt.show()"
   ]
  },
  {
   "cell_type": "code",
   "execution_count": null,
   "metadata": {},
   "outputs": [],
   "source": [
    "res1 = reservoir(3,300,forget = 0.985, input_weight = 0.01, LM_regularization = 1e-10, \\\n",
    "     t_regularization = 0, delta = 1e6, t_weighted = False, RLS_reg_type = 'LM')\n",
    "step = 0.05\n",
    "base_data_length = 5000\n",
    "data_length = int(base_data_length * step/(0.01))\n",
    "r_t = lambda x: r_t_cosine(x)\n",
    "dxdt = lambda x,t,r_t: dxdt_lorenz(x,t,r_t)\n",
    "valid_times_norm_array = np.array([])\n",
    "\n",
    "sync_length = 500\n",
    "num_tests = 100\n",
    "train_length = 2000\n",
    "pred_length = 400"
   ]
  },
  {
   "cell_type": "code",
   "execution_count": null,
   "metadata": {},
   "outputs": [],
   "source": [
    "data = getLorenzData(data_length, r_t, dxdt, sample_tau = step, seed = 1)\n",
    "new_data = np.ascontiguousarray(data)"
   ]
  },
  {
   "cell_type": "code",
   "execution_count": null,
   "metadata": {},
   "outputs": [],
   "source": [
    "res1.trainWoutRLS(scaled_data[2800:3800],200)\n",
    "res1.valid_time(scaled_data[3800:4200],plot = True, error_bound = 3.2)"
   ]
  },
  {
   "cell_type": "code",
   "execution_count": null,
   "metadata": {},
   "outputs": [],
   "source": [
    "valid_times_norm = cross_validation_performance_separated(scaled_data,res1,sync_length, \\\n",
    "               train_length, pred_length, train_method = 'RLS', progress = False)\n",
    "print(np.median(valid_times_norm))"
   ]
  },
  {
   "cell_type": "code",
   "execution_count": null,
   "metadata": {},
   "outputs": [],
   "source": [
    "# scaler = preprocessing.StandardScaler().fit(data)\n",
    "# scaled_data = scaler.transform(data)\n",
    "from tqdm import tqdm\n",
    "with tqdm(total = num_tests) as pbar:\n",
    "    for seed in range(num_tests):\n",
    "        data = getLorenzData(data_length, r_t, dxdt, sample_tau = step, seed = seed)\n",
    "        scaled_data = np.ascontiguousarray(data)\n",
    "        valid_times_norm = cross_validation_performance_versust(scaled_data,res1,sync_length, \\\n",
    "               train_length, pred_length,pred_gap_length = 100, train_method = 'RLS', progress = False)\n",
    "        if valid_times_norm_array.size == 0:\n",
    "            valid_times_norm_array = np.copy(valid_times_norm)\n",
    "        else:\n",
    "            valid_times_norm_array = np.vstack((valid_times_norm_array,valid_times_norm))\n",
    "        np.savetxt('Lorenz63Data/valid_times_rls_tweight_forget%f_reg%e_treg%e.csv' %(res1.forget, \\\n",
    "            res1.regularization, res1.t_regularization), valid_times_norm_array, delimiter = ',')\n",
    "        pbar.update(1)"
   ]
  },
  {
   "cell_type": "code",
   "execution_count": null,
   "metadata": {},
   "outputs": [],
   "source": [
    "plt.plot(np.mean(valid_times_norm_array*0.05,axis = 0))\n",
    "plt.ylim(0,5)\n",
    "plt.show()"
   ]
  },
  {
   "cell_type": "code",
   "execution_count": null,
   "metadata": {},
   "outputs": [],
   "source": [
    "x = np.array([[1,2],[3,4]])\n",
    "np.mean(x,axis = 1)"
   ]
  },
  {
   "cell_type": "code",
   "execution_count": null,
   "metadata": {},
   "outputs": [],
   "source": []
  }
 ],
 "metadata": {
  "kernelspec": {
   "display_name": "Python 3",
   "language": "python",
   "name": "python3"
  },
  "language_info": {
   "codemirror_mode": {
    "name": "ipython",
    "version": 3
   },
   "file_extension": ".py",
   "mimetype": "text/x-python",
   "name": "python",
   "nbconvert_exporter": "python",
   "pygments_lexer": "ipython3",
   "version": "3.7.9"
  }
 },
 "nbformat": 4,
 "nbformat_minor": 4
}
